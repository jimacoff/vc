{
 "cells": [
  {
   "cell_type": "code",
   "execution_count": 1,
   "metadata": {},
   "outputs": [],
   "source": [
    "%load_ext autoreload\n",
    "\n"
   ]
  },
  {
   "cell_type": "code",
   "execution_count": 2,
   "metadata": {},
   "outputs": [],
   "source": [
    "%autoreload 2"
   ]
  },
  {
   "cell_type": "code",
   "execution_count": 3,
   "metadata": {
    "collapsed": true
   },
   "outputs": [],
   "source": [
    "import numpy as np\n",
    "from experiments.founder_rank.helpers import *\n",
    "import experiments.founder_rank.metrics as metric\n",
    "import experiments.founder_rank.learner as learn"
   ]
  },
  {
   "cell_type": "code",
   "execution_count": 4,
   "metadata": {},
   "outputs": [],
   "source": [
    "import experiments.founder_rank.data.email_and_investment.baseline as baseline\n",
    "import experiments.founder_rank.data.email_and_investment.random as random\n",
    "import experiments.founder_rank.data.email_and_investment.naive as naive\n",
    "import experiments.founder_rank.data.email_and_investment.graph_metrics as graph_metrics"
   ]
  },
  {
   "cell_type": "code",
   "execution_count": 5,
   "metadata": {},
   "outputs": [],
   "source": [
    "datasets = get_datasets([baseline, random, naive])\n",
    "with_graph_metrics = get_dataset(graph_metrics)"
   ]
  },
  {
   "cell_type": "code",
   "execution_count": 6,
   "metadata": {},
   "outputs": [],
   "source": [
    "metrics = metric.Metrics(datasets['baseline'], power_dcg=True)\n",
    "learner = learn.Learner(datasets['baseline'])"
   ]
  },
  {
   "cell_type": "code",
   "execution_count": 7,
   "metadata": {},
   "outputs": [
    {
     "data": {
      "text/plain": [
       "array([[1.        , 0.86637874, 0.50515001],\n       [0.86637874, 1.        , 0.46089968],\n       [0.50515001, 0.46089968, 1.        ]])"
      ]
     },
     "execution_count": 7,
     "metadata": {},
     "output_type": "execute_result"
    }
   ],
   "source": [
    "only_pr = with_graph_metrics.take([0, 1], 1)\n",
    "only_betweenness = with_graph_metrics.take([0, 2], 1)\n",
    "only_closeness = with_graph_metrics.take([0, 3], 1)\n",
    "\n",
    "np.corrcoef(with_graph_metrics[:, 1:], rowvar=False)"
   ]
  },
  {
   "cell_type": "code",
   "execution_count": 8,
   "metadata": {},
   "outputs": [
    {
     "name": "stdout",
     "output_type": "stream",
     "text": [
      "only_pr: r^2=0.20074377657578757, coeff=[1.09240424]\nonly_betweenness: r^2=0.1239092056140283, coeff=[2.82517662]\nonly_closeness: r^2=0.1365632094495306, coeff=[0.25417921]\npr_and_closeness: r^2=0.25736841572040037, coeff=[0.73266927 0.12414112]\nweighted: r^2=0.2621030605317348, coeff=[0.51746646 0.64282569 0.12691438]\n"
     ]
    }
   ],
   "source": [
    "VERSIONS = {\n",
    "  'only_pr': [1], \n",
    "  'only_betweenness': [2],\n",
    "  'only_closeness': [3],\n",
    "  'pr_and_closeness': [1, 3],\n",
    "  'weighted': [1, 2, 3],\n",
    "}\n",
    "\n",
    "for name, indexes in VERSIONS.items():\n",
    "  features = with_graph_metrics.take([0] + indexes, 1)\n",
    "  dataset, coeff, r2 = learner.linear_regression(features)\n",
    "  datasets[name] = dataset\n",
    "  print('{n}: r^2={r2}, coeff={c}'.format(n=name, r2=r2, c=coeff))"
   ]
  },
  {
   "cell_type": "code",
   "execution_count": 9,
   "metadata": {
    "collapsed": false
   },
   "outputs": [
    {
     "name": "stdout",
     "output_type": "stream",
     "text": [
      "2.1435899981703272e+188\nbaseline: 1.0\nrandom: 0.167361256290268\nnaive: 0.40055521003852784\nonly_pr: 0.5233049575018469\nonly_betweenness: 0.3722327356938505\nonly_closeness: 0.32367747808404357\npr_and_closeness: 0.5254517088597782\nweighted: 0.39817527429335625\n"
     ]
    }
   ],
   "source": [
    "print(metrics.idcg)\n",
    "for_each_dataset(datasets, metrics.ndcg)"
   ]
  },
  {
   "cell_type": "code",
   "execution_count": 10,
   "metadata": {
    "collapsed": false
   },
   "outputs": [
    {
     "name": "stdout",
     "output_type": "stream",
     "text": [
      "n = 5\nbaseline: 1.0\nrandom: 0.0\nnaive: 0.2\nonly_pr: 0.2\nonly_betweenness: 0.2\nonly_closeness: 0.0\npr_and_closeness: 0.2\nweighted: 0.2\nn = 10\nbaseline: 1.0\nrandom: 0.0\nnaive: 0.2\nonly_pr: 0.1\nonly_betweenness: 0.2\nonly_closeness: 0.2\npr_and_closeness: 0.2\nweighted: 0.2\nn = 20\nbaseline: 1.0\nrandom: 0.0\nnaive: 0.15\nonly_pr: 0.15\nonly_betweenness: 0.2\nonly_closeness: 0.2\npr_and_closeness: 0.1\nweighted: 0.1\nn = 50\nbaseline: 1.0\nrandom: 0.12\nnaive: 0.34\nonly_pr: 0.3\nonly_betweenness: 0.3\nonly_closeness: 0.26\npr_and_closeness: 0.32\nweighted: 0.32\n"
     ]
    }
   ],
   "source": [
    "for n in [5, 10, 20, 50]:\n",
    "  print('n = {n}'.format(n=n))\n",
    "  for_each_dataset(datasets, lambda a: metrics.precision_at(n, a))"
   ]
  },
  {
   "cell_type": "code",
   "execution_count": 11,
   "metadata": {},
   "outputs": [
    {
     "name": "stdout",
     "output_type": "stream",
     "text": [
      "baseline: KendalltauResult(correlation=1.0, pvalue=4.663665584756559e-306)\nrandom: KendalltauResult(correlation=0.012471794871794874, pvalue=0.6409391143150687)\nnaive: KendalltauResult(correlation=0.5910871794871796, pvalue=2.9013200840505544e-108)\nonly_pr: KendalltauResult(correlation=0.4918461538461539, pvalue=1.5024737153349168e-75)\nonly_betweenness: KendalltauResult(correlation=0.5301333333333333, pvalue=1.830624679442366e-87)\nonly_closeness: KendalltauResult(correlation=0.5959179487179488, pvalue=5.222074919615367e-110)\npr_and_closeness: KendalltauResult(correlation=0.543671794871795, pvalue=6.873712483871131e-92)\nweighted: KendalltauResult(correlation=0.5527179487179488, pvalue=6.581487863777273e-95)\n"
     ]
    }
   ],
   "source": [
    "for_each_dataset(datasets, metrics.tau)"
   ]
  },
  {
   "cell_type": "code",
   "execution_count": 12,
   "metadata": {
    "collapsed": false
   },
   "outputs": [
    {
     "name": "stdout",
     "output_type": "stream",
     "text": [
      "baseline: SpearmanrResult(correlation=1.0, pvalue=0.0)\nrandom: SpearmanrResult(correlation=0.01722280658638486, pvalue=0.6673847059246989)\nnaive: SpearmanrResult(correlation=0.7733822560825757, pvalue=1.957267273461226e-125)\nonly_pr: SpearmanrResult(correlation=0.6640197591545836, pvalue=1.0448630784615618e-80)\nonly_betweenness: SpearmanrResult(correlation=0.7068505283853527, pvalue=9.586410547982706e-96)\nonly_closeness: SpearmanrResult(correlation=0.780197444089457, pvalue=4.7413889543749717e-129)\npr_and_closeness: SpearmanrResult(correlation=0.7244870975669698, pvalue=9.282255298624605e-103)\nweighted: SpearmanrResult(correlation=0.7323368395183092, pvalue=4.64553616679605e-106)\n"
     ]
    }
   ],
   "source": [
    "for_each_dataset(datasets, metrics.rho)"
   ]
  },
  {
   "cell_type": "code",
   "execution_count": 13,
   "metadata": {
    "collapsed": true
   },
   "outputs": [
    {
     "name": "stdout",
     "output_type": "stream",
     "text": [
      "baseline: 0.0\nrandom: 0.40477370053325157\nnaive: 0.2354368168505992\nonly_pr: 0.1123087765422025\nonly_betweenness: 0.13895131337704006\nonly_closeness: 0.20552558207426372\npr_and_closeness: 0.13598175967783058\nweighted: 0.1347795197707724\n"
     ]
    }
   ],
   "source": [
    "for_each_dataset(datasets, metrics.rmse)"
   ]
  },
  {
   "cell_type": "code",
   "execution_count": 14,
   "metadata": {},
   "outputs": [
    {
     "name": "stdout",
     "output_type": "stream",
     "text": [
      "baseline: 0.0\nrandom: 0.35873012703101553\nnaive: 0.19986531186838594\nonly_pr: 0.05700754659728666\nonly_betweenness: 0.06399980713742542\nonly_closeness: 0.14262043163552413\npr_and_closeness: 0.09502095746392956\nweighted: 0.09394760456323875\n"
     ]
    }
   ],
   "source": [
    "for_each_dataset(datasets, metrics.mae)"
   ]
  },
  {
   "cell_type": "code",
   "execution_count": 15,
   "metadata": {},
   "outputs": [],
   "source": [
    ""
   ]
  },
  {
   "cell_type": "code",
   "execution_count": null,
   "metadata": {},
   "outputs": [],
   "source": []
  }
 ],
 "metadata": {
  "kernelspec": {
   "display_name": "Python 2",
   "language": "python",
   "name": "python2"
  },
  "language_info": {
   "codemirror_mode": {
    "name": "ipython",
    "version": 2
   },
   "file_extension": ".py",
   "mimetype": "text/x-python",
   "name": "python",
   "nbconvert_exporter": "python",
   "pygments_lexer": "ipython2",
   "version": "2.7.6"
  }
 },
 "nbformat": 4,
 "nbformat_minor": 0
}
