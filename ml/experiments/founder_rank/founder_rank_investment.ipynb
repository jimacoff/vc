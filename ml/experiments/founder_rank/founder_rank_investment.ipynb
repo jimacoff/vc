{
 "cells": [
  {
   "cell_type": "code",
   "execution_count": 1,
   "metadata": {},
   "outputs": [],
   "source": [
    "%load_ext autoreload\n",
    "\n"
   ]
  },
  {
   "cell_type": "code",
   "execution_count": 2,
   "metadata": {},
   "outputs": [],
   "source": [
    "%autoreload 2"
   ]
  },
  {
   "cell_type": "code",
   "execution_count": 3,
   "metadata": {
    "collapsed": true
   },
   "outputs": [],
   "source": [
    "import numpy as np\n",
    "from experiments.founder_rank.helpers import *\n",
    "import experiments.founder_rank.metrics as metric\n",
    "import experiments.founder_rank.learner as learn"
   ]
  },
  {
   "cell_type": "code",
   "execution_count": 4,
   "metadata": {},
   "outputs": [],
   "source": [
    "import experiments.founder_rank.data.email_and_investment.baseline as baseline\n",
    "import experiments.founder_rank.data.email_and_investment.random as random\n",
    "import experiments.founder_rank.data.email_and_investment.naive as naive\n",
    "import experiments.founder_rank.data.email_and_investment.graph_metrics as graph_metrics"
   ]
  },
  {
   "cell_type": "code",
   "execution_count": 5,
   "metadata": {},
   "outputs": [],
   "source": [
    "datasets = get_datasets([baseline, random, naive])\n",
    "with_graph_metrics = get_dataset(graph_metrics)"
   ]
  },
  {
   "cell_type": "code",
   "execution_count": 6,
   "metadata": {},
   "outputs": [],
   "source": [
    "metrics = metric.Metrics(datasets['baseline'], power_dcg=True)\n",
    "learner = learn.Learner(datasets['baseline'])"
   ]
  },
  {
   "cell_type": "code",
   "execution_count": 7,
   "metadata": {},
   "outputs": [
    {
     "data": {
      "text/plain": [
       "array([[1.        , 0.86637874, 0.50515001],\n       [0.86637874, 1.        , 0.46089968],\n       [0.50515001, 0.46089968, 1.        ]])"
      ]
     },
     "execution_count": 7,
     "metadata": {},
     "output_type": "execute_result"
    }
   ],
   "source": [
    "only_pr = with_graph_metrics.take([0, 1], 1)\n",
    "only_betweenness = with_graph_metrics.take([0, 2], 1)\n",
    "only_closeness = with_graph_metrics.take([0, 3], 1)\n",
    "\n",
    "np.corrcoef(with_graph_metrics[:, 1:], rowvar=False)"
   ]
  },
  {
   "cell_type": "code",
   "execution_count": 8,
   "metadata": {},
   "outputs": [
    {
     "name": "stdout",
     "output_type": "stream",
     "text": [
      "only_pr: r^2=-0.14339536325205726, coeff=[1.49937105]\nonly_betweenness: r^2=-0.35250386253765553, coeff=[3.77276408]\nonly_closeness: r^2=0.29661197367324565, coeff=[0.4373447]\npr_and_closeness: r^2=0.3523744437811558, coeff=[0.47775398 0.35255035]\nweighted: r^2=0.3566770330143395, coeff=[0.28085778 0.5881426  0.3550877 ]\n"
     ]
    }
   ],
   "source": [
    "VERSIONS = {\n",
    "  'only_pr': [1], \n",
    "  'only_betweenness': [2],\n",
    "  'only_closeness': [3],\n",
    "  'pr_and_closeness': [1, 3],\n",
    "  'weighted': [1, 2, 3],\n",
    "}\n",
    "\n",
    "for name, indexes in VERSIONS.items():\n",
    "  features = with_graph_metrics.take([0] + indexes, 1)\n",
    "  dataset, coeff, r2 = learner.linear_regression(features)\n",
    "  datasets[name] = dataset\n",
    "  print('{n}: r^2={r2}, coeff={c}'.format(n=name, r2=r2, c=coeff))"
   ]
  },
  {
   "cell_type": "code",
   "execution_count": 9,
   "metadata": {
    "collapsed": false
   },
   "outputs": [
    {
     "name": "stdout",
     "output_type": "stream",
     "text": [
      "2.1435899981703272e+188\nbaseline: 1.0\nrandom: 0.2050962238136009\nnaive: 0.40207493336888495\nonly_pr: 0.522447685457687\nonly_betweenness: 0.3804559903074155\nonly_closeness: 0.33532696371406806\npr_and_closeness: 0.5300773049265486\nweighted: 0.40402314237049924\n"
     ]
    }
   ],
   "source": [
    "print(metrics.idcg)\n",
    "for_each_dataset(datasets, metrics.ndcg)"
   ]
  },
  {
   "cell_type": "code",
   "execution_count": 10,
   "metadata": {
    "collapsed": false
   },
   "outputs": [
    {
     "name": "stdout",
     "output_type": "stream",
     "text": [
      "n = 5\nbaseline: 1.0\nrandom: 0.2\nnaive: 0.2\nonly_pr: 0.2\nonly_betweenness: 0.4\nonly_closeness: 0.2\npr_and_closeness: 0.2\nweighted: 0.4\nn = 10\nbaseline: 1.0\nrandom: 0.1\nnaive: 0.2\nonly_pr: 0.1\nonly_betweenness: 0.2\nonly_closeness: 0.3\npr_and_closeness: 0.2\nweighted: 0.2\nn = 20\nbaseline: 1.0\nrandom: 0.05\nnaive: 0.2\nonly_pr: 0.15\nonly_betweenness: 0.2\nonly_closeness: 0.25\npr_and_closeness: 0.15\nweighted: 0.2\nn = 50\nbaseline: 1.0\nrandom: 0.08\nnaive: 0.36\nonly_pr: 0.3\nonly_betweenness: 0.34\nonly_closeness: 0.32\npr_and_closeness: 0.34\nweighted: 0.36\n"
     ]
    }
   ],
   "source": [
    "for n in [5, 10, 20, 50]:\n",
    "  print('n = {n}'.format(n=n))\n",
    "  for_each_dataset(datasets, lambda a: metrics.precision_at(n, a))"
   ]
  },
  {
   "cell_type": "code",
   "execution_count": 11,
   "metadata": {},
   "outputs": [
    {
     "name": "stdout",
     "output_type": "stream",
     "text": [
      "baseline: KendalltauResult(correlation=1.0, pvalue=4.663665584756559e-306)\nrandom: KendalltauResult(correlation=0.02798974358974359, pvalue=0.29524530991197917)\nnaive: KendalltauResult(correlation=0.49026666666666674, pvalue=4.459063590685215e-75)\nonly_pr: KendalltauResult(correlation=0.4077025641025641, pvalue=1.746354685381768e-52)\nonly_betweenness: KendalltauResult(correlation=0.439323076923077, pvalue=1.1937161773347303e-60)\nonly_closeness: KendalltauResult(correlation=0.5070974358974359, pvalue=3.445930979275169e-80)\npr_and_closeness: KendalltauResult(correlation=0.48546666666666677, pvalue=1.1903903655343325e-73)\nweighted: KendalltauResult(correlation=0.4906256410256411, pvalue=3.4834078427928916e-75)\n"
     ]
    }
   ],
   "source": [
    "for_each_dataset(datasets, metrics.tau)"
   ]
  },
  {
   "cell_type": "code",
   "execution_count": 12,
   "metadata": {
    "collapsed": false
   },
   "outputs": [
    {
     "name": "stdout",
     "output_type": "stream",
     "text": [
      "baseline: SpearmanrResult(correlation=1.0, pvalue=0.0)\nrandom: SpearmanrResult(correlation=0.040921848119931194, pvalue=0.307052599768919)\nnaive: SpearmanrResult(correlation=0.6745325141312363, pvalue=3.661527661420181e-84)\nonly_pr: SpearmanrResult(correlation=0.5748610960924061, pvalue=2.9640386003504695e-56)\nonly_betweenness: SpearmanrResult(correlation=0.6145351191939052, pvalue=3.5966873396555386e-66)\nonly_closeness: SpearmanrResult(correlation=0.695817006635537, pvalue=1.2863946528100306e-91)\npr_and_closeness: SpearmanrResult(correlation=0.6699613172769723, pvalue=1.2123256280863849e-82)\nweighted: SpearmanrResult(correlation=0.674531137871713, pvalue=3.6654226887836825e-84)\n"
     ]
    }
   ],
   "source": [
    "for_each_dataset(datasets, metrics.rho)"
   ]
  },
  {
   "cell_type": "code",
   "execution_count": 13,
   "metadata": {
    "collapsed": true
   },
   "outputs": [
    {
     "name": "stdout",
     "output_type": "stream",
     "text": [
      "baseline: 0.0\nrandom: 0.2528667781399638\nnaive: 0.11133291983782746\nonly_pr: 0.14230536458600626\nonly_betweenness: 0.1955745389131885\nonly_closeness: 0.14753239584702885\npr_and_closeness: 0.1096812130443369\nweighted: 0.10827080650623466\n"
     ]
    }
   ],
   "source": [
    "for_each_dataset(datasets, metrics.rmse)"
   ]
  },
  {
   "cell_type": "code",
   "execution_count": 14,
   "metadata": {},
   "outputs": [
    {
     "name": "stdout",
     "output_type": "stream",
     "text": [
      "baseline: 0.0\nrandom: 0.23501938414445367\nnaive: 0.07781549865554455\nonly_pr: 0.11381767558365218\nonly_betweenness: 0.1566008728642685\nonly_closeness: 0.105059932466047\npr_and_closeness: 0.08319278577168956\nweighted: 0.0831947037957496\n"
     ]
    }
   ],
   "source": [
    "for_each_dataset(datasets, metrics.mae)"
   ]
  },
  {
   "cell_type": "code",
   "execution_count": 15,
   "metadata": {},
   "outputs": [],
   "source": [
    ""
   ]
  },
  {
   "cell_type": "code",
   "execution_count": null,
   "metadata": {},
   "outputs": [],
   "source": []
  }
 ],
 "metadata": {
  "kernelspec": {
   "display_name": "Python 2",
   "language": "python",
   "name": "python2"
  },
  "language_info": {
   "codemirror_mode": {
    "name": "ipython",
    "version": 2
   },
   "file_extension": ".py",
   "mimetype": "text/x-python",
   "name": "python",
   "nbconvert_exporter": "python",
   "pygments_lexer": "ipython2",
   "version": "2.7.6"
  }
 },
 "nbformat": 4,
 "nbformat_minor": 0
}
