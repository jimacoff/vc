{
 "cells": [
  {
   "cell_type": "code",
   "execution_count": 1,
   "metadata": {},
   "outputs": [],
   "source": [
    "%load_ext autoreload\n",
    "\n"
   ]
  },
  {
   "cell_type": "code",
   "execution_count": 2,
   "metadata": {},
   "outputs": [],
   "source": [
    "%autoreload 2"
   ]
  },
  {
   "cell_type": "code",
   "execution_count": 3,
   "metadata": {
    "collapsed": true
   },
   "outputs": [],
   "source": [
    "import numpy as np\n",
    "from experiments.founder_rank.helpers import *\n",
    "import experiments.founder_rank.metrics as metric\n",
    "import experiments.founder_rank.learner as learn"
   ]
  },
  {
   "cell_type": "code",
   "execution_count": 4,
   "metadata": {},
   "outputs": [],
   "source": [
    "import experiments.founder_rank.data.email_and_investment.baseline as baseline\n",
    "import experiments.founder_rank.data.email_and_investment.random as random\n",
    "import experiments.founder_rank.data.email_and_investment.naive as naive\n",
    "import experiments.founder_rank.data.email_and_investment.graph_metrics as graph_metrics"
   ]
  },
  {
   "cell_type": "code",
   "execution_count": 5,
   "metadata": {},
   "outputs": [],
   "source": [
    "datasets = get_datasets([baseline, random, naive])\n",
    "with_graph_metrics = get_dataset(graph_metrics)"
   ]
  },
  {
   "cell_type": "code",
   "execution_count": 6,
   "metadata": {},
   "outputs": [],
   "source": [
    "metrics = metric.Metrics(datasets['baseline'], power_dcg=True)\n",
    "learner = learn.Learner(datasets['baseline'])"
   ]
  },
  {
   "cell_type": "code",
   "execution_count": 7,
   "metadata": {},
   "outputs": [
    {
     "data": {
      "text/plain": [
       "array([[1.        , 0.85731231, 0.51810301],\n       [0.85731231, 1.        , 0.47359124],\n       [0.51810301, 0.47359124, 1.        ]])"
      ]
     },
     "execution_count": 7,
     "metadata": {},
     "output_type": "execute_result"
    }
   ],
   "source": [
    "only_pr = with_graph_metrics.take([0, 1], 1)\n",
    "only_betweenness = with_graph_metrics.take([0, 2], 1)\n",
    "only_closeness = with_graph_metrics.take([0, 3], 1)\n",
    "\n",
    "np.corrcoef(with_graph_metrics[:, 1:], rowvar=False)"
   ]
  },
  {
   "cell_type": "code",
   "execution_count": 8,
   "metadata": {},
   "outputs": [
    {
     "name": "stdout",
     "output_type": "stream",
     "text": [
      "only_pr: r^2=-0.16765133546606958, coeff=[1.50475464]\nonly_betweenness: r^2=-0.38979016065395866, coeff=[2.64292883]\nonly_closeness: r^2=0.3428048821764943, coeff=[0.47095821]\npr_and_closeness: r^2=0.38507247000554357, coeff=[0.41761361 0.39276886]\nweighted: r^2=0.3893934239771776, coeff=[0.23130514 0.3969971  0.39494439]\n"
     ]
    }
   ],
   "source": [
    "VERSIONS = {\n",
    "  'only_pr': [1], \n",
    "  'only_betweenness': [2],\n",
    "  'only_closeness': [3],\n",
    "  'pr_and_closeness': [1, 3],\n",
    "  'weighted': [1, 2, 3],\n",
    "}\n",
    "\n",
    "for name, indexes in VERSIONS.items():\n",
    "  features = with_graph_metrics.take([0] + indexes, 1)\n",
    "  dataset, coeff, r2 = learner.linear_regression(features)\n",
    "  datasets[name] = dataset\n",
    "  print('{n}: r^2={r2}, coeff={c}'.format(n=name, r2=r2, c=coeff))"
   ]
  },
  {
   "cell_type": "code",
   "execution_count": 9,
   "metadata": {
    "collapsed": false
   },
   "outputs": [
    {
     "name": "stdout",
     "output_type": "stream",
     "text": [
      "1.8592679463475738e+170\nbaseline: 1.0\nrandom: 0.17437376007025185\nnaive: 0.4035451449724314\nonly_pr: 0.5261198672450327\nonly_betweenness: 0.4525769836150943\nonly_closeness: 0.40587442408725594\npr_and_closeness: 0.5311447991259711\nweighted: 0.40486252857796146\n"
     ]
    }
   ],
   "source": [
    "print(metrics.idcg)\n",
    "for_each_dataset(datasets, metrics.ndcg)"
   ]
  },
  {
   "cell_type": "code",
   "execution_count": 10,
   "metadata": {
    "collapsed": false
   },
   "outputs": [
    {
     "name": "stdout",
     "output_type": "stream",
     "text": [
      "n = 5\nbaseline: 1.0\nrandom: 0.0\nnaive: 0.2\nonly_pr: 0.2\nonly_betweenness: 0.2\nonly_closeness: 0.4\npr_and_closeness: 0.2\nweighted: 0.2\nn = 10\nbaseline: 1.0\nrandom: 0.0\nnaive: 0.2\nonly_pr: 0.1\nonly_betweenness: 0.3\nonly_closeness: 0.4\npr_and_closeness: 0.2\nweighted: 0.3\nn = 20\nbaseline: 1.0\nrandom: 0.0\nnaive: 0.2\nonly_pr: 0.2\nonly_betweenness: 0.2\nonly_closeness: 0.35\npr_and_closeness: 0.2\nweighted: 0.2\nn = 50\nbaseline: 1.0\nrandom: 0.1\nnaive: 0.44\nonly_pr: 0.34\nonly_betweenness: 0.46\nonly_closeness: 0.4\npr_and_closeness: 0.42\nweighted: 0.44\n"
     ]
    }
   ],
   "source": [
    "for n in [5, 10, 20, 50]:\n",
    "  print('n = {n}'.format(n=n))\n",
    "  for_each_dataset(datasets, lambda a: metrics.precision_at(n, a))"
   ]
  },
  {
   "cell_type": "code",
   "execution_count": 11,
   "metadata": {},
   "outputs": [
    {
     "name": "stdout",
     "output_type": "stream",
     "text": [
      "baseline: KendalltauResult(correlation=0.9999999999999999, pvalue=1.0113376142855542e-276)\nrandom: KendalltauResult(correlation=0.08727797652670556, pvalue=0.0019205579361579966)\nnaive: KendalltauResult(correlation=0.4865248226950354, pvalue=5.2867003378741474e-67)\nonly_pr: KendalltauResult(correlation=0.3940751898575284, pvalue=1.4085810520268382e-44)\nonly_betweenness: KendalltauResult(correlation=0.4442477876106194, pvalue=3.6139020914644973e-56)\nonly_closeness: KendalltauResult(correlation=0.503395468524446, pvalue=1.3388577789769523e-71)\npr_and_closeness: KendalltauResult(correlation=0.48931149187221484, pvalue=9.43371118384229e-68)\nweighted: KendalltauResult(correlation=0.4944078327998493, pvalue=3.9338177462744516e-69)\n"
     ]
    }
   ],
   "source": [
    "for_each_dataset(datasets, metrics.tau)"
   ]
  },
  {
   "cell_type": "code",
   "execution_count": 12,
   "metadata": {
    "collapsed": false
   },
   "outputs": [
    {
     "name": "stdout",
     "output_type": "stream",
     "text": [
      "baseline: SpearmanrResult(correlation=1.0, pvalue=0.0)\nrandom: SpearmanrResult(correlation=0.13119108084893477, pvalue=0.001778131971169338)\nnaive: SpearmanrResult(correlation=0.6728925165650597, pvalue=9.755423627607468e-76)\nonly_pr: SpearmanrResult(correlation=0.5589049462646032, pvalue=9.817869398306893e-48)\nonly_betweenness: SpearmanrResult(correlation=0.6228071879617808, pvalue=5.292645641667232e-62)\nonly_closeness: SpearmanrResult(correlation=0.6950454187688331, pvalue=1.0242510067882187e-82)\npr_and_closeness: SpearmanrResult(correlation=0.6769850959372941, pvalue=5.5735475342926996e-77)\nweighted: SpearmanrResult(correlation=0.6828321511523852, pvalue=8.603725759373953e-79)\n"
     ]
    }
   ],
   "source": [
    "for_each_dataset(datasets, metrics.rho)"
   ]
  },
  {
   "cell_type": "code",
   "execution_count": 13,
   "metadata": {
    "collapsed": true
   },
   "outputs": [
    {
     "name": "stdout",
     "output_type": "stream",
     "text": [
      "baseline: 0.0\nrandom: 0.27005150088695445\nnaive: 0.08857031362788999\nonly_pr: 0.15240612814010734\nonly_betweenness: 0.20759500738536904\nonly_closeness: 0.13680591913033702\npr_and_closeness: 0.10522638611360567\nweighted: 0.10339011621827623\n"
     ]
    }
   ],
   "source": [
    "for_each_dataset(datasets, metrics.rmse)"
   ]
  },
  {
   "cell_type": "code",
   "execution_count": 14,
   "metadata": {},
   "outputs": [
    {
     "name": "stdout",
     "output_type": "stream",
     "text": [
      "baseline: 0.0\nrandom: 0.2527288354593246\nnaive: 0.059927085965167624\nonly_pr: 0.12035913292282303\nonly_betweenness: 0.16574119651820599\nonly_closeness: 0.09666375666496407\npr_and_closeness: 0.07894007565695513\nweighted: 0.07901385597790482\n"
     ]
    }
   ],
   "source": [
    "for_each_dataset(datasets, metrics.mae)"
   ]
  },
  {
   "cell_type": "code",
   "execution_count": 15,
   "metadata": {},
   "outputs": [],
   "source": [
    ""
   ]
  },
  {
   "cell_type": "code",
   "execution_count": null,
   "metadata": {},
   "outputs": [],
   "source": []
  }
 ],
 "metadata": {
  "kernelspec": {
   "display_name": "Python 2",
   "language": "python",
   "name": "python2"
  },
  "language_info": {
   "codemirror_mode": {
    "name": "ipython",
    "version": 2
   },
   "file_extension": ".py",
   "mimetype": "text/x-python",
   "name": "python",
   "nbconvert_exporter": "python",
   "pygments_lexer": "ipython2",
   "version": "2.7.6"
  }
 },
 "nbformat": 4,
 "nbformat_minor": 0
}
