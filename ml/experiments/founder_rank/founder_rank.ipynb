{
 "cells": [
  {
   "cell_type": "code",
   "execution_count": 1,
   "metadata": {},
   "outputs": [],
   "source": [
    "%load_ext autoreload\n"
   ]
  },
  {
   "cell_type": "code",
   "execution_count": 2,
   "metadata": {},
   "outputs": [],
   "source": [
    "%autoreload 2"
   ]
  },
  {
   "cell_type": "code",
   "execution_count": 3,
   "metadata": {
    "collapsed": true
   },
   "outputs": [],
   "source": [
    "import numpy as np\n",
    "from experiments.founder_rank.helpers import *\n",
    "import experiments.founder_rank.metrics as metric\n",
    "import experiments.founder_rank.learner as learn"
   ]
  },
  {
   "cell_type": "code",
   "execution_count": 4,
   "metadata": {},
   "outputs": [],
   "source": [
    "import experiments.founder_rank.data.private.baseline as baseline\n",
    "import experiments.founder_rank.data.private.random as random\n",
    "import experiments.founder_rank.data.private.naive as naive\n",
    "import experiments.founder_rank.data.private.graph_metrics as graph_metrics"
   ]
  },
  {
   "cell_type": "code",
   "execution_count": 5,
   "metadata": {},
   "outputs": [],
   "source": [
    "datasets = get_datasets([baseline, random, naive])\n",
    "with_graph_metrics = get_dataset(graph_metrics)"
   ]
  },
  {
   "cell_type": "code",
   "execution_count": 6,
   "metadata": {},
   "outputs": [],
   "source": [
    "metrics = metric.Metrics(datasets['baseline'])\n",
    "learner = learn.Learner(datasets['baseline'])"
   ]
  },
  {
   "cell_type": "code",
   "execution_count": 7,
   "metadata": {},
   "outputs": [
    {
     "data": {
      "text/plain": [
       "array([[1.        , 0.9168935 , 0.5358719 ],\n       [0.9168935 , 1.        , 0.51547319],\n       [0.5358719 , 0.51547319, 1.        ]])"
      ]
     },
     "execution_count": 7,
     "metadata": {},
     "output_type": "execute_result"
    }
   ],
   "source": [
    "only_pr = with_graph_metrics.take([0, 1], 1)\n",
    "only_betweenness = with_graph_metrics.take([0, 2], 1)\n",
    "only_closeness = with_graph_metrics.take([0, 3], 1)\n",
    "np.corrcoef(with_graph_metrics[:, 1:], rowvar=False)"
   ]
  },
  {
   "cell_type": "code",
   "execution_count": 8,
   "metadata": {},
   "outputs": [
    {
     "name": "stdout",
     "output_type": "stream",
     "text": [
      "only_pr: r^2=-0.13336698261708269, coeff=[0.00222696]\nonly_betweenness: r^2=-0.29297141799068305, coeff=[1.5737442]\nonly_closeness: r^2=0.30673542058553793, coeff=[0.45353152]\npr_and_closeness: r^2=0.35416523079900375, coeff=[0.0006658 0.3692907]\nweighted: r^2=0.3545498107735512, coeff=[0.00055161 0.09010513 0.37006597]\n"
     ]
    }
   ],
   "source": [
    "VERSIONS = {\n",
    "  'only_pr': [1], \n",
    "  'only_betweenness': [2],\n",
    "  'only_closeness': [3],\n",
    "  'pr_and_closeness': [1, 3],\n",
    "  'weighted': [1, 2, 3],\n",
    "}\n",
    "\n",
    "for name, indexes in VERSIONS.items():\n",
    "  features = with_graph_metrics.take([0] + indexes, 1)\n",
    "  dataset, coeff, r2 = learner.linear_regression(features)\n",
    "  datasets[name] = dataset\n",
    "  print('{n}: r^2={r2}, coeff={c}'.format(n=name, r2=r2, c=coeff))"
   ]
  },
  {
   "cell_type": "code",
   "execution_count": 9,
   "metadata": {
    "collapsed": false
   },
   "outputs": [
    {
     "name": "stdout",
     "output_type": "stream",
     "text": [
      "2.1435899981703272e+188\nbaseline: 1.0\nrandom: 0.21170693512455982\nnaive: 0.5249818277214559\nonly_pr: 0.5249807203302584\nonly_betweenness: 0.3652083093261328\nonly_closeness: 0.34657434496786554\npr_and_closeness: 0.5272585189085585\nweighted: 0.44131327679884746\n"
     ]
    }
   ],
   "source": [
    "print(metrics.idcg)\n",
    "for_each_dataset(datasets, metrics.ndcg)"
   ]
  },
  {
   "cell_type": "code",
   "execution_count": 10,
   "metadata": {
    "collapsed": false
   },
   "outputs": [
    {
     "name": "stdout",
     "output_type": "stream",
     "text": [
      "n = 5\nbaseline: 1.0\nrandom: 0.0\nnaive: 0.2\nonly_pr: 0.2\nonly_betweenness: 0.2\nonly_closeness: 0.2\npr_and_closeness: 0.2\nweighted: 0.2\nn = 10\nbaseline: 1.0\nrandom: 0.0\nnaive: 0.1\nonly_pr: 0.1\nonly_betweenness: 0.2\nonly_closeness: 0.2\npr_and_closeness: 0.2\nweighted: 0.2\nn = 20\nbaseline: 1.0\nrandom: 0.0\nnaive: 0.15\nonly_pr: 0.15\nonly_betweenness: 0.2\nonly_closeness: 0.25\npr_and_closeness: 0.2\nweighted: 0.2\nn = 50\nbaseline: 1.0\nrandom: 0.04\nnaive: 0.34\nonly_pr: 0.34\nonly_betweenness: 0.3\nonly_closeness: 0.24\npr_and_closeness: 0.34\nweighted: 0.36\n"
     ]
    }
   ],
   "source": [
    "for n in [5, 10, 20, 50]:\n",
    "  print('n = {n}'.format(n=n))\n",
    "  for_each_dataset(datasets, lambda a: metrics.precision_at(n, a))"
   ]
  },
  {
   "cell_type": "code",
   "execution_count": 11,
   "metadata": {
    "collapsed": false
   },
   "outputs": [
    {
     "name": "stdout",
     "output_type": "stream",
     "text": [
      "baseline: KendalltauResult(correlation=1.0, pvalue=4.663665584756559e-306)\nrandom: KendalltauResult(correlation=-0.05505641025641026, pvalue=0.03950866364174224)\nnaive: KendalltauResult(correlation=0.41320000000000007, pvalue=7.344948113750452e-54)\nonly_pr: KendalltauResult(correlation=0.4108307692307693, pvalue=2.8927229641822075e-53)\nonly_betweenness: KendalltauResult(correlation=0.4338564102564103, pvalue=3.402392102766875e-59)\nonly_closeness: KendalltauResult(correlation=0.48533333333333345, pvalue=1.3035081373469383e-73)\npr_and_closeness: KendalltauResult(correlation=0.4805743589743591, pvalue=3.2749964372184396e-72)\nweighted: KendalltauResult(correlation=0.4811384615384616, pvalue=2.2385533111903525e-72)\n"
     ]
    }
   ],
   "source": [
    "for_each_dataset(datasets, metrics.tau)"
   ]
  },
  {
   "cell_type": "code",
   "execution_count": 12,
   "metadata": {},
   "outputs": [
    {
     "name": "stdout",
     "output_type": "stream",
     "text": [
      "baseline: SpearmanrResult(correlation=1.0, pvalue=0.0)\nrandom: SpearmanrResult(correlation=-0.08264231998033916, pvalue=0.038879852088810486)\nnaive: SpearmanrResult(correlation=0.5805169820594741, pvalue=1.3829971008507094e-57)\nonly_pr: SpearmanrResult(correlation=0.5769939051363973, pvalue=9.397069846224258e-57)\nonly_betweenness: SpearmanrResult(correlation=0.6084856230031949, pvalue=1.4419932528515797e-64)\nonly_closeness: SpearmanrResult(correlation=0.6689967068075695, pvalue=2.5170520604099495e-82)\npr_and_closeness: SpearmanrResult(correlation=0.6609124600638978, pvalue=1.0318877799374397e-79)\nweighted: SpearmanrResult(correlation=0.6618623740476777, pvalue=5.138683659245205e-80)\n"
     ]
    }
   ],
   "source": [
    "for_each_dataset(datasets, metrics.rho)"
   ]
  },
  {
   "cell_type": "code",
   "execution_count": 13,
   "metadata": {},
   "outputs": [
    {
     "name": "stdout",
     "output_type": "stream",
     "text": [
      "baseline: 0.0\nrandom: 0.2723075614685373\nnaive: 0.19672235523663104\nonly_pr: 0.14266547064856686\nonly_betweenness: 0.18077572063367597\nonly_closeness: 0.13347453609204543\npr_and_closeness: 0.10002434373758799\nweighted: 0.09947654203066537\n"
     ]
    }
   ],
   "source": [
    "for_each_dataset(datasets, metrics.rmse)"
   ]
  },
  {
   "cell_type": "code",
   "execution_count": 14,
   "metadata": {},
   "outputs": [
    {
     "name": "stdout",
     "output_type": "stream",
     "text": [
      "baseline: 0.0\nrandom: 0.25074932914894055\nnaive: 0.15792439473825973\nonly_pr: 0.11407721809869076\nonly_betweenness: 0.14680929114886246\nonly_closeness: 0.09106674051023972\npr_and_closeness: 0.07296183327312206\nweighted: 0.07293279845306287\n"
     ]
    }
   ],
   "source": [
    "for_each_dataset(datasets, metrics.mae)"
   ]
  },
  {
   "cell_type": "code",
   "execution_count": 15,
   "metadata": {},
   "outputs": [],
   "source": [
    ""
   ]
  },
  {
   "cell_type": "code",
   "execution_count": null,
   "metadata": {},
   "outputs": [],
   "source": []
  }
 ],
 "metadata": {
  "kernelspec": {
   "display_name": "Python 2",
   "language": "python",
   "name": "python2"
  },
  "language_info": {
   "codemirror_mode": {
    "name": "ipython",
    "version": 2
   },
   "file_extension": ".py",
   "mimetype": "text/x-python",
   "name": "python",
   "nbconvert_exporter": "python",
   "pygments_lexer": "ipython2",
   "version": "2.7.6"
  }
 },
 "nbformat": 4,
 "nbformat_minor": 0
}
