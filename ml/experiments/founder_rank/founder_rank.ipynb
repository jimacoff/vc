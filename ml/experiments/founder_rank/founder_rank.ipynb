{
 "cells": [
  {
   "cell_type": "code",
   "execution_count": 1,
   "metadata": {},
   "outputs": [],
   "source": [
    "%load_ext autoreload\n"
   ]
  },
  {
   "cell_type": "code",
   "execution_count": 2,
   "metadata": {},
   "outputs": [],
   "source": [
    "%autoreload 2"
   ]
  },
  {
   "cell_type": "code",
   "execution_count": 3,
   "metadata": {
    "collapsed": true
   },
   "outputs": [],
   "source": [
    "import numpy as np\n",
    "from experiments.founder_rank.helpers import *\n",
    "import experiments.founder_rank.metrics as metric\n",
    "import experiments.founder_rank.learner as learn"
   ]
  },
  {
   "cell_type": "code",
   "execution_count": 4,
   "metadata": {},
   "outputs": [],
   "source": [
    "import experiments.founder_rank.data.private.baseline as baseline\n",
    "import experiments.founder_rank.data.private.random as random\n",
    "import experiments.founder_rank.data.private.naive as naive\n",
    "import experiments.founder_rank.data.private.graph_metrics as graph_metrics"
   ]
  },
  {
   "cell_type": "code",
   "execution_count": 5,
   "metadata": {},
   "outputs": [],
   "source": [
    "datasets = get_datasets([baseline, random, naive])\n",
    "with_graph_metrics = get_dataset(graph_metrics)"
   ]
  },
  {
   "cell_type": "code",
   "execution_count": 6,
   "metadata": {},
   "outputs": [],
   "source": [
    "metrics = metric.Metrics(datasets['baseline'])\n",
    "learner = learn.Learner(datasets['baseline'])"
   ]
  },
  {
   "cell_type": "code",
   "execution_count": 7,
   "metadata": {},
   "outputs": [
    {
     "data": {
      "text/plain": [
       "array([[1.        , 0.91689477, 0.53587024],\n       [0.91689477, 1.        , 0.51547319],\n       [0.53587024, 0.51547319, 1.        ]])"
      ]
     },
     "execution_count": 7,
     "metadata": {},
     "output_type": "execute_result"
    }
   ],
   "source": [
    "only_pr = with_graph_metrics.take([0, 1], 1)\n",
    "only_betweenness = with_graph_metrics.take([0, 2], 1)\n",
    "only_closeness = with_graph_metrics.take([0, 3], 1)\n",
    "np.corrcoef(with_graph_metrics[:, 1:], rowvar=False)"
   ]
  },
  {
   "cell_type": "code",
   "execution_count": 8,
   "metadata": {},
   "outputs": [
    {
     "name": "stdout",
     "output_type": "stream",
     "text": [
      "only_pr: r^2=-0.17732932897868992, coeff=[1.5334213]\nonly_betweenness: r^2=-0.3352246084978885, coeff=[1.61867525]\nonly_closeness: r^2=0.31764119440324556, coeff=[0.47208079]\npr_and_closeness: r^2=0.3577394125945218, coeff=[0.41764429 0.39333173]\nweighted: r^2=0.3585551688061206, coeff=[0.30418127 0.1334225  0.39447958]\n"
     ]
    }
   ],
   "source": [
    "VERSIONS = {\n",
    "  'only_pr': [1], \n",
    "  'only_betweenness': [2],\n",
    "  'only_closeness': [3],\n",
    "  'pr_and_closeness': [1, 3],\n",
    "  'weighted': [1, 2, 3],\n",
    "}\n",
    "\n",
    "for name, indexes in VERSIONS.items():\n",
    "  features = with_graph_metrics.take([0] + indexes, 1)\n",
    "  dataset, coeff, r2 = learner.linear_regression(features)\n",
    "  datasets[name] = dataset\n",
    "  print('{n}: r^2={r2}, coeff={c}'.format(n=name, r2=r2, c=coeff))"
   ]
  },
  {
   "cell_type": "code",
   "execution_count": 9,
   "metadata": {
    "collapsed": false
   },
   "outputs": [
    {
     "name": "stdout",
     "output_type": "stream",
     "text": [
      "2.1435899981703272e+188\nbaseline: 1.0\nrandom: 0.18060326274376168\nnaive: 0.396502343841324\nonly_pr: 0.5252712303827227\nonly_betweenness: 0.36572542698814947\nonly_closeness: 0.34739602450126317\npr_and_closeness: 0.526390662794714\nweighted: 0.4420531952123817\n"
     ]
    }
   ],
   "source": [
    "print(metrics.idcg)\n",
    "for_each_dataset(datasets, metrics.ndcg)"
   ]
  },
  {
   "cell_type": "code",
   "execution_count": 10,
   "metadata": {
    "collapsed": false
   },
   "outputs": [
    {
     "name": "stdout",
     "output_type": "stream",
     "text": [
      "n = 5\nbaseline: 1.0\nrandom: 0.0\nnaive: 0.2\nonly_pr: 0.2\nonly_betweenness: 0.2\nonly_closeness: 0.2\npr_and_closeness: 0.2\nweighted: 0.2\nn = 10\nbaseline: 1.0\nrandom: 0.1\nnaive: 0.2\nonly_pr: 0.1\nonly_betweenness: 0.2\nonly_closeness: 0.2\npr_and_closeness: 0.2\nweighted: 0.2\nn = 20\nbaseline: 1.0\nrandom: 0.05\nnaive: 0.2\nonly_pr: 0.15\nonly_betweenness: 0.2\nonly_closeness: 0.25\npr_and_closeness: 0.2\nweighted: 0.2\nn = 50\nbaseline: 1.0\nrandom: 0.06\nnaive: 0.38\nonly_pr: 0.34\nonly_betweenness: 0.34\nonly_closeness: 0.3\npr_and_closeness: 0.38\nweighted: 0.38\n"
     ]
    }
   ],
   "source": [
    "for n in [5, 10, 20, 50]:\n",
    "  print('n = {n}'.format(n=n))\n",
    "  for_each_dataset(datasets, lambda a: metrics.precision_at(n, a))"
   ]
  },
  {
   "cell_type": "code",
   "execution_count": 11,
   "metadata": {},
   "outputs": [
    {
     "name": "stdout",
     "output_type": "stream",
     "text": [
      "baseline: KendalltauResult(correlation=1.0, pvalue=4.663665584756559e-306)\nrandom: KendalltauResult(correlation=-0.00794871794871795, pvalue=0.7662798727558393)\nnaive: KendalltauResult(correlation=0.47521025641025644, pvalue=1.1937092634455458e-70)\nonly_pr: KendalltauResult(correlation=0.4076, pvalue=1.851966354436399e-52)\nonly_betweenness: KendalltauResult(correlation=0.4298871794871795, pvalue=3.774099703928743e-58)\nonly_closeness: KendalltauResult(correlation=0.4866666666666667, pvalue=5.252739970865429e-74)\npr_and_closeness: KendalltauResult(correlation=0.48043076923076933, pvalue=3.607796412583193e-72)\nweighted: KendalltauResult(correlation=0.48037948717948725, pvalue=3.734651970793418e-72)\n"
     ]
    }
   ],
   "source": [
    "for_each_dataset(datasets, metrics.tau)"
   ]
  },
  {
   "cell_type": "code",
   "execution_count": 12,
   "metadata": {},
   "outputs": [
    {
     "name": "stdout",
     "output_type": "stream",
     "text": [
      "baseline: SpearmanrResult(correlation=1.0, pvalue=0.0)\nrandom: SpearmanrResult(correlation=-0.01111998033914967, pvalue=0.7814333838140232)\nnaive: SpearmanrResult(correlation=0.6549147702138118, pvalue=7.944940470742049e-78)\nonly_pr: SpearmanrResult(correlation=0.5730580486606047, pvalue=7.776668490043354e-56)\nonly_betweenness: SpearmanrResult(correlation=0.6051929220938806, pvalue=1.040096083479409e-63)\nonly_closeness: SpearmanrResult(correlation=0.6701233226837062, pvalue=1.0720526231979262e-82)\npr_and_closeness: SpearmanrResult(correlation=0.6600343573359548, pvalue=1.9612842228851042e-79)\nweighted: SpearmanrResult(correlation=0.6608348980093389, pvalue=1.0922099523145491e-79)\n"
     ]
    }
   ],
   "source": [
    "for_each_dataset(datasets, metrics.rho)"
   ]
  },
  {
   "cell_type": "code",
   "execution_count": 13,
   "metadata": {},
   "outputs": [
    {
     "name": "stdout",
     "output_type": "stream",
     "text": [
      "baseline: 0.0\nrandom: 0.2463234841875151\nnaive: 0.08224137446721991\nonly_pr: 0.15327530217970733\nonly_betweenness: 0.1913546147415874\nonly_closeness: 0.132022175712766\npr_and_closeness: 0.10214416048013067\nweighted: 0.10125255437069981\n"
     ]
    }
   ],
   "source": [
    "for_each_dataset(datasets, metrics.rmse)"
   ]
  },
  {
   "cell_type": "code",
   "execution_count": 14,
   "metadata": {},
   "outputs": [
    {
     "name": "stdout",
     "output_type": "stream",
     "text": [
      "baseline: 0.0\nrandom: 0.2297591911423119\nnaive: 0.06466490225995233\nonly_pr: 0.12149672426252768\nonly_betweenness: 0.1549092431690086\nonly_closeness: 0.09227013392461829\npr_and_closeness: 0.0761589042711777\nweighted: 0.07615527105119875\n"
     ]
    }
   ],
   "source": [
    "for_each_dataset(datasets, metrics.mae)"
   ]
  },
  {
   "cell_type": "code",
   "execution_count": 15,
   "metadata": {},
   "outputs": [],
   "source": [
    ""
   ]
  },
  {
   "cell_type": "code",
   "execution_count": null,
   "metadata": {},
   "outputs": [],
   "source": []
  }
 ],
 "metadata": {
  "kernelspec": {
   "display_name": "Python 2",
   "language": "python",
   "name": "python2"
  },
  "language_info": {
   "codemirror_mode": {
    "name": "ipython",
    "version": 2
   },
   "file_extension": ".py",
   "mimetype": "text/x-python",
   "name": "python",
   "nbconvert_exporter": "python",
   "pygments_lexer": "ipython2",
   "version": "2.7.6"
  }
 },
 "nbformat": 4,
 "nbformat_minor": 0
}
