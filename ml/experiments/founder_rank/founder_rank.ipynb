{
 "cells": [
  {
   "cell_type": "code",
   "execution_count": 1,
   "metadata": {},
   "outputs": [],
   "source": [
    "%load_ext autoreload\n"
   ]
  },
  {
   "cell_type": "code",
   "execution_count": 2,
   "metadata": {},
   "outputs": [],
   "source": [
    "%autoreload 2"
   ]
  },
  {
   "cell_type": "code",
   "execution_count": 26,
   "metadata": {
    "collapsed": true
   },
   "outputs": [],
   "source": [
    "import numpy as np\n",
    "from experiments.founder_rank.helpers import *\n",
    "import experiments.founder_rank.metrics as metric\n",
    "import experiments.founder_rank.learner as learn"
   ]
  },
  {
   "cell_type": "code",
   "execution_count": 27,
   "metadata": {},
   "outputs": [],
   "source": [
    "import experiments.founder_rank.data.private.baseline as baseline\n",
    "import experiments.founder_rank.data.private.random as random\n",
    "import experiments.founder_rank.data.private.naive as naive\n",
    "import experiments.founder_rank.data.private.graph_metrics as graph_metrics"
   ]
  },
  {
   "cell_type": "code",
   "execution_count": 28,
   "metadata": {},
   "outputs": [],
   "source": [
    "datasets = get_datasets([baseline, random, naive])\n",
    "with_graph_metrics = get_dataset(graph_metrics)"
   ]
  },
  {
   "cell_type": "code",
   "execution_count": 29,
   "metadata": {},
   "outputs": [],
   "source": [
    "metrics = metric.Metrics(datasets['baseline'])\n",
    "learner = learn.Learner(datasets['baseline'])"
   ]
  },
  {
   "cell_type": "code",
   "execution_count": 30,
   "metadata": {},
   "outputs": [
    {
     "data": {
      "text/plain": [
       "array([[1.        , 0.91689477, 0.53587024],\n       [0.91689477, 1.        , 0.51547319],\n       [0.53587024, 0.51547319, 1.        ]])"
      ]
     },
     "execution_count": 30,
     "metadata": {},
     "output_type": "execute_result"
    }
   ],
   "source": [
    "only_pr = with_graph_metrics.take([0, 1], 1)\n",
    "only_betweenness = with_graph_metrics.take([0, 2], 1)\n",
    "only_closeness = with_graph_metrics.take([0, 3], 1)\n",
    "np.corrcoef(with_graph_metrics[:, 1:], rowvar=False)"
   ]
  },
  {
   "cell_type": "code",
   "execution_count": 31,
   "metadata": {},
   "outputs": [
    {
     "name": "stdout",
     "output_type": "stream",
     "text": [
      "only_pr: r^2=0.284167629740967, coeff=[1.12954155]\nonly_betweenness: r^2=0.23172539863346697, coeff=[1.23169549]\nonly_closeness: r^2=0.18342013638410948, coeff=[0.26854765]\npr_and_closeness: r^2=0.33687978288834497, coeff=[0.7906443  0.11946746]\nweighted: r^2=0.3417942232357143, coeff=[0.52114899 0.31690271 0.1221938 ]\n"
     ]
    }
   ],
   "source": [
    "VERSIONS = {\n",
    "  'only_pr': [1], \n",
    "  'only_betweenness': [2],\n",
    "  'only_closeness': [3],\n",
    "  'pr_and_closeness': [1, 3],\n",
    "  'weighted': [1, 2, 3],\n",
    "}\n",
    "\n",
    "for name, indexes in VERSIONS.items():\n",
    "  features = with_graph_metrics.take([0] + indexes, 1)\n",
    "  dataset, coeff, r2 = learner.linear_regression(features)\n",
    "  datasets[name] = dataset\n",
    "  print('{n}: r^2={r2}, coeff={c}'.format(n=name, r2=r2, c=coeff))"
   ]
  },
  {
   "cell_type": "code",
   "execution_count": 32,
   "metadata": {
    "collapsed": false
   },
   "outputs": [
    {
     "name": "stdout",
     "output_type": "stream",
     "text": [
      "2.1435899981703272e+188\nbaseline: 1.0\nrandom: 0.15677292454310263\nnaive: 0.3996780768702226\nonly_pr: 0.5299199836192711\nonly_betweenness: 0.36620825305498395\nonly_closeness: 0.34776865481884295\npr_and_closeness: 0.5307132297802482\nweighted: 0.44480749301678246\n"
     ]
    }
   ],
   "source": [
    "print(metrics.idcg)\n",
    "for_each_dataset(datasets, metrics.ndcg)"
   ]
  },
  {
   "cell_type": "code",
   "execution_count": 33,
   "metadata": {
    "collapsed": false
   },
   "outputs": [
    {
     "name": "stdout",
     "output_type": "stream",
     "text": [
      "n = 5\nbaseline: 1.0\nrandom: 0.0\nnaive: 0.2\nonly_pr: 0.2\nonly_betweenness: 0.2\nonly_closeness: 0.2\npr_and_closeness: 0.2\nweighted: 0.2\nn = 10\nbaseline: 1.0\nrandom: 0.0\nnaive: 0.2\nonly_pr: 0.1\nonly_betweenness: 0.2\nonly_closeness: 0.3\npr_and_closeness: 0.2\nweighted: 0.2\nn = 20\nbaseline: 1.0\nrandom: 0.0\nnaive: 0.15\nonly_pr: 0.1\nonly_betweenness: 0.2\nonly_closeness: 0.2\npr_and_closeness: 0.1\nweighted: 0.15\nn = 50\nbaseline: 1.0\nrandom: 0.04\nnaive: 0.38\nonly_pr: 0.4\nonly_betweenness: 0.34\nonly_closeness: 0.24\npr_and_closeness: 0.4\nweighted: 0.38\n"
     ]
    }
   ],
   "source": [
    "for n in [5, 10, 20, 50]:\n",
    "  print('n = {n}'.format(n=n))\n",
    "  for_each_dataset(datasets, lambda a: metrics.precision_at(n, a))"
   ]
  },
  {
   "cell_type": "code",
   "execution_count": 34,
   "metadata": {},
   "outputs": [
    {
     "name": "stdout",
     "output_type": "stream",
     "text": [
      "baseline: KendalltauResult(correlation=1.0, pvalue=4.663665584756559e-306)\nrandom: KendalltauResult(correlation=-0.005405128205128206, pvalue=0.839818034740744)\nnaive: KendalltauResult(correlation=0.5952820512820514, pvalue=8.878133659551435e-110)\nonly_pr: KendalltauResult(correlation=0.5065025641025642, pvalue=5.259071184274815e-80)\nonly_betweenness: KendalltauResult(correlation=0.542523076923077, pvalue=1.6481313337823185e-91)\nonly_closeness: KendalltauResult(correlation=0.5877435897435898, pvalue=4.591277154602555e-107)\npr_and_closeness: KendalltauResult(correlation=0.5595589743589745, pvalue=3.1799603981988076e-97)\nweighted: KendalltauResult(correlation=0.5669846153846154, pvalue=9.047145815926624e-100)\n"
     ]
    }
   ],
   "source": [
    "for_each_dataset(datasets, metrics.tau)"
   ]
  },
  {
   "cell_type": "code",
   "execution_count": 35,
   "metadata": {},
   "outputs": [
    {
     "name": "stdout",
     "output_type": "stream",
     "text": [
      "baseline: SpearmanrResult(correlation=1.0, pvalue=0.0)\nrandom: SpearmanrResult(correlation=-0.007277856967313837, pvalue=0.8559087346599529)\nnaive: SpearmanrResult(correlation=0.7732623740476777, pvalue=2.260049549449023e-125)\nonly_pr: SpearmanrResult(correlation=0.6833374784959451, pvalue=3.6081515753429006e-87)\nonly_betweenness: SpearmanrResult(correlation=0.7211024821823544, pvalue=2.2682480239823563e-101)\nonly_closeness: SpearmanrResult(correlation=0.7723509461784223, pvalue=6.726493461603771e-125)\npr_and_closeness: SpearmanrResult(correlation=0.7401626935364954, pvalue=1.8108454360948637e-109)\nweighted: SpearmanrResult(correlation=0.748037748832637, pvalue=5.0191638842095536e-113)\n"
     ]
    }
   ],
   "source": [
    "for_each_dataset(datasets, metrics.rho)"
   ]
  },
  {
   "cell_type": "code",
   "execution_count": 36,
   "metadata": {},
   "outputs": [
    {
     "name": "stdout",
     "output_type": "stream",
     "text": [
      "baseline: 0.0\nrandom: 0.419132993880088\nnaive: 0.16966676223686575\nonly_pr: 0.08964866457612464\nonly_betweenness: 0.10651554996056374\nonly_closeness: 0.18460861880377988\npr_and_closeness: 0.11052061117490375\nweighted: 0.1092997661835526\n"
     ]
    }
   ],
   "source": [
    "for_each_dataset(datasets, metrics.rmse)"
   ]
  },
  {
   "cell_type": "code",
   "execution_count": 37,
   "metadata": {},
   "outputs": [
    {
     "name": "stdout",
     "output_type": "stream",
     "text": [
      "baseline: 0.0\nrandom: 0.3750072066597993\nnaive: 0.13905167365619464\nonly_pr: 0.04744860051416035\nonly_betweenness: 0.05194630011031918\nonly_closeness: 0.12598179945222907\npr_and_closeness: 0.07787960212403051\nweighted: 0.07637111563931642\n"
     ]
    }
   ],
   "source": [
    "for_each_dataset(datasets, metrics.mae)"
   ]
  },
  {
   "cell_type": "code",
   "execution_count": 15,
   "metadata": {},
   "outputs": [],
   "source": [
    ""
   ]
  },
  {
   "cell_type": "code",
   "execution_count": null,
   "metadata": {},
   "outputs": [],
   "source": []
  }
 ],
 "metadata": {
  "kernelspec": {
   "display_name": "Python 2",
   "language": "python",
   "name": "python2"
  },
  "language_info": {
   "codemirror_mode": {
    "name": "ipython",
    "version": 2
   },
   "file_extension": ".py",
   "mimetype": "text/x-python",
   "name": "python",
   "nbconvert_exporter": "python",
   "pygments_lexer": "ipython2",
   "version": "2.7.6"
  }
 },
 "nbformat": 4,
 "nbformat_minor": 0
}
