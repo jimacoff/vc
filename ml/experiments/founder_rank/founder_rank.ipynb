{
 "cells": [
  {
   "cell_type": "code",
   "execution_count": 1,
   "metadata": {},
   "outputs": [],
   "source": [
    "%load_ext autoreload\n"
   ]
  },
  {
   "cell_type": "code",
   "execution_count": 2,
   "metadata": {},
   "outputs": [],
   "source": [
    "%autoreload 2"
   ]
  },
  {
   "cell_type": "code",
   "execution_count": 3,
   "metadata": {
    "collapsed": true
   },
   "outputs": [],
   "source": [
    "import numpy as np\n",
    "from experiments.founder_rank.helpers import *\n",
    "import experiments.founder_rank.metrics as metric\n",
    "import experiments.founder_rank.learner as learn"
   ]
  },
  {
   "cell_type": "code",
   "execution_count": 4,
   "metadata": {},
   "outputs": [],
   "source": [
    "import experiments.founder_rank.data.private.baseline as baseline\n",
    "import experiments.founder_rank.data.private.random as random\n",
    "import experiments.founder_rank.data.private.naive as naive\n",
    "import experiments.founder_rank.data.private.graph_metrics as graph_metrics"
   ]
  },
  {
   "cell_type": "code",
   "execution_count": 5,
   "metadata": {},
   "outputs": [],
   "source": [
    "datasets = get_datasets([baseline, random, naive])\n",
    "with_graph_metrics = get_dataset(graph_metrics)"
   ]
  },
  {
   "cell_type": "code",
   "execution_count": 6,
   "metadata": {},
   "outputs": [],
   "source": [
    "metrics = metric.Metrics(datasets['baseline'])\n",
    "learner = learn.Learner(datasets['baseline'])"
   ]
  },
  {
   "cell_type": "code",
   "execution_count": 7,
   "metadata": {},
   "outputs": [
    {
     "data": {
      "text/plain": [
       "array([[1.        , 0.91689477, 0.53587024],\n       [0.91689477, 1.        , 0.51547319],\n       [0.53587024, 0.51547319, 1.        ]])"
      ]
     },
     "execution_count": 7,
     "metadata": {},
     "output_type": "execute_result"
    }
   ],
   "source": [
    "only_pr = with_graph_metrics.take([0, 1], 1)\n",
    "only_betweenness = with_graph_metrics.take([0, 2], 1)\n",
    "only_closeness = with_graph_metrics.take([0, 3], 1)\n",
    "np.corrcoef(with_graph_metrics[:, 1:], rowvar=False)"
   ]
  },
  {
   "cell_type": "code",
   "execution_count": 8,
   "metadata": {},
   "outputs": [
    {
     "name": "stdout",
     "output_type": "stream",
     "text": [
      "only_pr: r^2=0.2562086473264755, coeff=[1.13653772]\nonly_betweenness: r^2=0.19296682619626782, coeff=[1.22699022]\nonly_closeness: r^2=0.16811743607525442, coeff=[0.27269301]\npr_and_closeness: r^2=0.3123736375656647, coeff=[0.78040366 0.12554375]\nweighted: r^2=0.3146415227573024, coeff=[0.59402649 0.21916311 0.12742923]\n"
     ]
    }
   ],
   "source": [
    "VERSIONS = {\n",
    "  'only_pr': [1], \n",
    "  'only_betweenness': [2],\n",
    "  'only_closeness': [3],\n",
    "  'pr_and_closeness': [1, 3],\n",
    "  'weighted': [1, 2, 3],\n",
    "}\n",
    "\n",
    "for name, indexes in VERSIONS.items():\n",
    "  features = with_graph_metrics.take([0] + indexes, 1)\n",
    "  dataset, coeff, r2 = learner.linear_regression(features)\n",
    "  datasets[name] = dataset\n",
    "  print('{n}: r^2={r2}, coeff={c}'.format(n=name, r2=r2, c=coeff))"
   ]
  },
  {
   "cell_type": "code",
   "execution_count": 9,
   "metadata": {
    "collapsed": false
   },
   "outputs": [
    {
     "name": "stdout",
     "output_type": "stream",
     "text": [
      "2.1435899981703272e+188\nbaseline: 1.0\nrandom: 0.157310319642317\nnaive: 0.39869350465721554\nonly_pr: 0.5292826566116889\nonly_betweenness: 0.36431767374311913\nonly_closeness: 0.3470809348995768\npr_and_closeness: 0.5299415176535516\nweighted: 0.44414680982870147\n"
     ]
    }
   ],
   "source": [
    "print(metrics.idcg)\n",
    "for_each_dataset(datasets, metrics.ndcg)"
   ]
  },
  {
   "cell_type": "code",
   "execution_count": 10,
   "metadata": {
    "collapsed": false
   },
   "outputs": [
    {
     "name": "stdout",
     "output_type": "stream",
     "text": [
      "n = 5\nbaseline: 1.0\nrandom: 0.0\nnaive: 0.2\nonly_pr: 0.2\nonly_betweenness: 0.2\nonly_closeness: 0.2\npr_and_closeness: 0.2\nweighted: 0.2\nn = 10\nbaseline: 1.0\nrandom: 0.0\nnaive: 0.2\nonly_pr: 0.1\nonly_betweenness: 0.2\nonly_closeness: 0.3\npr_and_closeness: 0.2\nweighted: 0.2\nn = 20\nbaseline: 1.0\nrandom: 0.1\nnaive: 0.15\nonly_pr: 0.1\nonly_betweenness: 0.2\nonly_closeness: 0.2\npr_and_closeness: 0.1\nweighted: 0.1\nn = 50\nbaseline: 1.0\nrandom: 0.06\nnaive: 0.38\nonly_pr: 0.4\nonly_betweenness: 0.34\nonly_closeness: 0.24\npr_and_closeness: 0.4\nweighted: 0.38\n"
     ]
    }
   ],
   "source": [
    "for n in [5, 10, 20, 50]:\n",
    "  print('n = {n}'.format(n=n))\n",
    "  for_each_dataset(datasets, lambda a: metrics.precision_at(n, a))"
   ]
  },
  {
   "cell_type": "code",
   "execution_count": 11,
   "metadata": {},
   "outputs": [
    {
     "name": "stdout",
     "output_type": "stream",
     "text": [
      "baseline: KendalltauResult(correlation=1.0, pvalue=4.663665584756559e-306)\nrandom: KendalltauResult(correlation=-0.030410256410256412, pvalue=0.2554547652516961)\nnaive: KendalltauResult(correlation=0.5827897435897437, pvalue=2.6693803771270578e-105)\nonly_pr: KendalltauResult(correlation=0.49581538461538466, pvalue=9.614150060655254e-77)\nonly_betweenness: KendalltauResult(correlation=0.5315282051282052, pvalue=6.483046779084324e-88)\nonly_closeness: KendalltauResult(correlation=0.5774871794871795, pvalue=1.9889076662270004e-103)\npr_and_closeness: KendalltauResult(correlation=0.5489025641025642, pvalue=1.2520852284599117e-93)\nweighted: KendalltauResult(correlation=0.5539692307692309, pvalue=2.493703397526784e-95)\n"
     ]
    }
   ],
   "source": [
    "for_each_dataset(datasets, metrics.tau)"
   ]
  },
  {
   "cell_type": "code",
   "execution_count": 12,
   "metadata": {},
   "outputs": [
    {
     "name": "stdout",
     "output_type": "stream",
     "text": [
      "baseline: SpearmanrResult(correlation=1.0, pvalue=0.0)\nrandom: SpearmanrResult(correlation=-0.046381420496436475, pvalue=0.24693036736928112)\nnaive: SpearmanrResult(correlation=0.7604095846645368, pvalue=6.860797865181096e-119)\nonly_pr: SpearmanrResult(correlation=0.6719074956991891, pvalue=2.7531913547198014e-83)\nonly_betweenness: SpearmanrResult(correlation=0.707934037847137, pvalue=3.6804474622069524e-96)\nonly_closeness: SpearmanrResult(correlation=0.7597426886212829, pvalue=1.4505372902564246e-118)\npr_and_closeness: SpearmanrResult(correlation=0.7288826247235194, pvalue=1.3605811499646126e-104)\nweighted: SpearmanrResult(correlation=0.7324307692307692, pvalue=4.2348015370305313e-106)\n"
     ]
    }
   ],
   "source": [
    "for_each_dataset(datasets, metrics.rho)"
   ]
  },
  {
   "cell_type": "code",
   "execution_count": 13,
   "metadata": {},
   "outputs": [
    {
     "name": "stdout",
     "output_type": "stream",
     "text": [
      "baseline: 0.0\nrandom: 0.382674533038442\nnaive: 0.1704423584535529\nonly_pr: 0.09592259635054848\nonly_betweenness: 0.11483874764962773\nonly_closeness: 0.18878961522341559\npr_and_closeness: 0.11672909249021061\nweighted: 0.11614775626361393\n"
     ]
    }
   ],
   "source": [
    "for_each_dataset(datasets, metrics.rmse)"
   ]
  },
  {
   "cell_type": "code",
   "execution_count": 14,
   "metadata": {},
   "outputs": [
    {
     "name": "stdout",
     "output_type": "stream",
     "text": [
      "baseline: 0.0\nrandom: 0.3406075290905881\nnaive: 0.14151585323199792\nonly_pr: 0.04979408771849987\nonly_betweenness: 0.056249428477709446\nonly_closeness: 0.13023601199771606\npr_and_closeness: 0.0818654051479628\nweighted: 0.08096885092833195\n"
     ]
    }
   ],
   "source": [
    "for_each_dataset(datasets, metrics.mae)"
   ]
  },
  {
   "cell_type": "code",
   "execution_count": 15,
   "metadata": {},
   "outputs": [],
   "source": [
    ""
   ]
  },
  {
   "cell_type": "code",
   "execution_count": null,
   "metadata": {},
   "outputs": [],
   "source": []
  }
 ],
 "metadata": {
  "kernelspec": {
   "display_name": "Python 2",
   "language": "python",
   "name": "python2"
  },
  "language_info": {
   "codemirror_mode": {
    "name": "ipython",
    "version": 2
   },
   "file_extension": ".py",
   "mimetype": "text/x-python",
   "name": "python",
   "nbconvert_exporter": "python",
   "pygments_lexer": "ipython2",
   "version": "2.7.6"
  }
 },
 "nbformat": 4,
 "nbformat_minor": 0
}
