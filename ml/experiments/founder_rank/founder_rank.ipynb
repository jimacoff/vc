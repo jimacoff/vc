{
 "cells": [
  {
   "cell_type": "code",
   "execution_count": 1,
   "metadata": {},
   "outputs": [],
   "source": [
    "%load_ext autoreload\n"
   ]
  },
  {
   "cell_type": "code",
   "execution_count": 2,
   "metadata": {},
   "outputs": [],
   "source": [
    "%autoreload 2"
   ]
  },
  {
   "cell_type": "code",
   "execution_count": 3,
   "metadata": {
    "collapsed": true
   },
   "outputs": [],
   "source": [
    "import numpy as np\n",
    "from experiments.founder_rank.helpers import *\n",
    "import experiments.founder_rank.metrics as metric\n",
    "import experiments.founder_rank.learner as learn"
   ]
  },
  {
   "cell_type": "code",
   "execution_count": 4,
   "metadata": {},
   "outputs": [],
   "source": [
    "import experiments.founder_rank.data.baseline as baseline\n",
    "import experiments.founder_rank.data.random as random\n",
    "import experiments.founder_rank.data.naive as naive\n",
    "import experiments.founder_rank.data.graph_metrics as graph_metrics"
   ]
  },
  {
   "cell_type": "code",
   "execution_count": 5,
   "metadata": {},
   "outputs": [],
   "source": [
    "datasets = get_datasets([baseline, random, naive])\n",
    "with_graph_metrics = get_dataset(graph_metrics)"
   ]
  },
  {
   "cell_type": "code",
   "execution_count": 6,
   "metadata": {},
   "outputs": [],
   "source": [
    "metrics = metric.Metrics(datasets['baseline'])\n",
    "learner = learn.Learner(datasets['baseline'])"
   ]
  },
  {
   "cell_type": "code",
   "execution_count": 15,
   "metadata": {},
   "outputs": [
    {
     "data": {
      "text/plain": [
       "array([[1.        , 0.91344508, 0.53108472],\n       [0.91344508, 1.        , 0.51204197],\n       [0.53108472, 0.51204197, 1.        ]])"
      ]
     },
     "execution_count": 15,
     "metadata": {},
     "output_type": "execute_result"
    }
   ],
   "source": [
    "only_pr = with_graph_metrics.take([0, 1], 1)\n",
    "only_betweenness = with_graph_metrics.take([0, 2], 1)\n",
    "only_closeness = with_graph_metrics.take([0, 3], 1)\n",
    "\n",
    "np.corrcoef(with_graph_metrics[:, 1:], rowvar=False)"
   ]
  },
  {
   "cell_type": "code",
   "execution_count": 14,
   "metadata": {},
   "outputs": [
    {
     "name": "stdout",
     "output_type": "stream",
     "text": [
      "only_pr: r^2=-0.1331416774430687, coeff=[1.49142913]\nonly_betweenness: r^2=-0.296141680638095, coeff=[1.70210538]\nonly_closeness: r^2=0.3480972302779506, coeff=[0.4716454]\npr_and_closeness: r^2=0.3916299801281544, coeff=[0.42304162 0.38994958]\nweighted: r^2=0.39264296907325147, coeff=[0.30290779 0.15360332 0.3912759 ]\n"
     ]
    }
   ],
   "source": [
    "VERSIONS = {\n",
    "  'only_pr': [1], \n",
    "  'only_betweenness': [2],\n",
    "  'only_closeness': [3],\n",
    "  'pr_and_closeness': [1, 3],\n",
    "  'weighted': [1, 2, 3],\n",
    "}\n",
    "\n",
    "for name, indexes in VERSIONS.items():\n",
    "  features = with_graph_metrics.take([0] + indexes, 1)\n",
    "  dataset, coeff, r2 = learner.linear_regression(features)\n",
    "  datasets[name] = dataset\n",
    "  print('{n}: r^2={r2}, coeff={c}'.format(n=name, r2=r2, c=coeff))"
   ]
  },
  {
   "cell_type": "code",
   "execution_count": 8,
   "metadata": {
    "collapsed": false
   },
   "outputs": [
    {
     "name": "stdout",
     "output_type": "stream",
     "text": [
      "1.452553083084042e+168\nbaseline: 1.0\nrandom: 0.2704474479896671\nnaive: 0.4482823680815219\nonly_pr: 0.5271513090577453\nonly_betweenness: 0.4009498350291547\nonly_closeness: 0.3754596919790231\npr_and_closeness: 0.5336061817283828\nweighted: 0.44929269008633355\n"
     ]
    }
   ],
   "source": [
    "print(metrics.idcg)\n",
    "for_each_dataset(datasets, metrics.ndcg)"
   ]
  },
  {
   "cell_type": "code",
   "execution_count": 9,
   "metadata": {
    "collapsed": false
   },
   "outputs": [
    {
     "name": "stdout",
     "output_type": "stream",
     "text": [
      "n = 5\nbaseline: 1.0\nrandom: 0.2\nnaive: 0.2\nonly_pr: 0.2\nonly_betweenness: 0.2\nonly_closeness: 0.4\npr_and_closeness: 0.2\nweighted: 0.2\nn = 10\nbaseline: 1.0\nrandom: 0.1\nnaive: 0.3\nonly_pr: 0.1\nonly_betweenness: 0.3\nonly_closeness: 0.2\npr_and_closeness: 0.2\nweighted: 0.3\nn = 20\nbaseline: 1.0\nrandom: 0.05\nnaive: 0.2\nonly_pr: 0.2\nonly_betweenness: 0.25\nonly_closeness: 0.3\npr_and_closeness: 0.2\nweighted: 0.2\nn = 50\nbaseline: 1.0\nrandom: 0.04\nnaive: 0.38\nonly_pr: 0.34\nonly_betweenness: 0.38\nonly_closeness: 0.38\npr_and_closeness: 0.38\nweighted: 0.38\n"
     ]
    }
   ],
   "source": [
    "for n in [5, 10, 20, 50]:\n",
    "  print('n = {n}'.format(n=n))\n",
    "  for_each_dataset(datasets, lambda a: metrics.precision_at(n, a))"
   ]
  },
  {
   "cell_type": "code",
   "execution_count": 10,
   "metadata": {},
   "outputs": [
    {
     "name": "stdout",
     "output_type": "stream",
     "text": [
      "baseline: KendalltauResult(correlation=1.0, pvalue=2.676644885516571e-273)\nrandom: KendalltauResult(correlation=0.006891758846354318, pvalue=0.8076705167919815)\nnaive: KendalltauResult(correlation=0.48454019549172156, pvalue=1.1463387315990024e-65)\nonly_pr: KendalltauResult(correlation=0.4056099303102257, pvalue=1.4829043811878737e-46)\nonly_betweenness: KendalltauResult(correlation=0.4432282517068526, pvalue=3.032208617194526e-55)\nonly_closeness: KendalltauResult(correlation=0.498388062006525, pvalue=2.288007691431624e-69)\npr_and_closeness: KendalltauResult(correlation=0.4879506830627466, pvalue=1.437857017879871e-66)\nweighted: KendalltauResult(correlation=0.4904602871244442, pvalue=3.09217692129376e-67)\n"
     ]
    }
   ],
   "source": [
    "for_each_dataset(datasets, metrics.tau)"
   ]
  },
  {
   "cell_type": "code",
   "execution_count": 11,
   "metadata": {},
   "outputs": [
    {
     "name": "stdout",
     "output_type": "stream",
     "text": [
      "baseline: SpearmanrResult(correlation=1.0, pvalue=0.0)\nrandom: SpearmanrResult(correlation=0.010010892448288154, pvalue=0.8134690167658944)\nnaive: SpearmanrResult(correlation=0.6734281623160935, pvalue=5.608369452835146e-75)\nonly_pr: SpearmanrResult(correlation=0.5741339698962857, pvalue=3.048662395906977e-50)\nonly_betweenness: SpearmanrResult(correlation=0.6238186739061509, pvalue=1.6703223496457425e-61)\nonly_closeness: SpearmanrResult(correlation=0.6908477913567607, pvalue=2.343937514807284e-80)\npr_and_closeness: SpearmanrResult(correlation=0.6773326738672653, pvalue=3.762866363594985e-76)\nweighted: SpearmanrResult(correlation=0.679677480480464, pvalue=7.279808422349716e-77)\n"
     ]
    }
   ],
   "source": [
    "for_each_dataset(datasets, metrics.rho)"
   ]
  },
  {
   "cell_type": "code",
   "execution_count": 12,
   "metadata": {},
   "outputs": [
    {
     "name": "stdout",
     "output_type": "stream",
     "text": [
      "baseline: 0.0\nrandom: 0.25540572915869914\nnaive: 0.08274775113989331\nonly_pr: 0.14914810365195647\nonly_betweenness: 0.18892948559512504\nonly_closeness: 0.1359636565815242\npr_and_closeness: 0.10400477111947302\nweighted: 0.10309881317230686\n"
     ]
    }
   ],
   "source": [
    "for_each_dataset(datasets, metrics.rmse)"
   ]
  },
  {
   "cell_type": "code",
   "execution_count": 13,
   "metadata": {},
   "outputs": [
    {
     "name": "stdout",
     "output_type": "stream",
     "text": [
      "baseline: 0.0\nrandom: 0.2344563094356908\nnaive: 0.06373322143862112\nonly_pr: 0.11721879798217179\nonly_betweenness: 0.1519589998141315\nonly_closeness: 0.09644202184152607\npr_and_closeness: 0.07861928356344625\nweighted: 0.07870874698647526\n"
     ]
    }
   ],
   "source": [
    "for_each_dataset(datasets, metrics.mae)"
   ]
  },
  {
   "cell_type": "code",
   "execution_count": 15,
   "metadata": {},
   "outputs": [],
   "source": [
    ""
   ]
  },
  {
   "cell_type": "code",
   "execution_count": null,
   "metadata": {},
   "outputs": [],
   "source": []
  }
 ],
 "metadata": {
  "kernelspec": {
   "display_name": "Python 2",
   "language": "python",
   "name": "python2"
  },
  "language_info": {
   "codemirror_mode": {
    "name": "ipython",
    "version": 2
   },
   "file_extension": ".py",
   "mimetype": "text/x-python",
   "name": "python",
   "nbconvert_exporter": "python",
   "pygments_lexer": "ipython2",
   "version": "2.7.6"
  }
 },
 "nbformat": 4,
 "nbformat_minor": 0
}
