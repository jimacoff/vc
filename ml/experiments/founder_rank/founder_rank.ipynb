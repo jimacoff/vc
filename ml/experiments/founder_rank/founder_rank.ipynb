{
 "cells": [
  {
   "cell_type": "code",
   "execution_count": 17,
   "metadata": {},
   "outputs": [
    {
     "name": "stdout",
     "output_type": "stream",
     "text": [
      "The autoreload extension is already loaded. To reload it, use:\n  %reload_ext autoreload\n"
     ]
    }
   ],
   "source": [
    "%load_ext autoreload\n"
   ]
  },
  {
   "cell_type": "code",
   "execution_count": 18,
   "metadata": {},
   "outputs": [],
   "source": [
    "%autoreload 2"
   ]
  },
  {
   "cell_type": "code",
   "execution_count": 38,
   "metadata": {
    "collapsed": true
   },
   "outputs": [],
   "source": [
    "import numpy as np\n",
    "from experiments.founder_rank.helpers import *\n",
    "import experiments.founder_rank.metrics as metric\n",
    "import experiments.founder_rank.learner as learn"
   ]
  },
  {
   "cell_type": "code",
   "execution_count": 39,
   "metadata": {},
   "outputs": [],
   "source": [
    "import experiments.founder_rank.data.private.baseline as baseline\n",
    "import experiments.founder_rank.data.private.random as random\n",
    "import experiments.founder_rank.data.private.naive as naive\n",
    "import experiments.founder_rank.data.private.graph_metrics as graph_metrics"
   ]
  },
  {
   "cell_type": "code",
   "execution_count": 40,
   "metadata": {},
   "outputs": [],
   "source": [
    "datasets = get_datasets([baseline, random, naive])\n",
    "with_graph_metrics = get_dataset(graph_metrics)"
   ]
  },
  {
   "cell_type": "code",
   "execution_count": 41,
   "metadata": {},
   "outputs": [],
   "source": [
    "metrics = metric.Metrics(datasets['baseline'])\n",
    "learner = learn.Learner(datasets['baseline'])"
   ]
  },
  {
   "cell_type": "code",
   "execution_count": 42,
   "metadata": {},
   "outputs": [
    {
     "data": {
      "text/plain": [
       "array([[1.        , 0.91689477, 0.53587024],\n       [0.91689477, 1.        , 0.51547319],\n       [0.53587024, 0.51547319, 1.        ]])"
      ]
     },
     "execution_count": 42,
     "metadata": {},
     "output_type": "execute_result"
    }
   ],
   "source": [
    "only_pr = with_graph_metrics.take([0, 1], 1)\n",
    "only_betweenness = with_graph_metrics.take([0, 2], 1)\n",
    "only_closeness = with_graph_metrics.take([0, 3], 1)\n",
    "np.corrcoef(with_graph_metrics[:, 1:], rowvar=False)"
   ]
  },
  {
   "cell_type": "code",
   "execution_count": 43,
   "metadata": {},
   "outputs": [
    {
     "name": "stdout",
     "output_type": "stream",
     "text": [
      "only_pr: r^2=-0.1333728765346942, coeff=[1.4943471]\nonly_betweenness: r^2=-0.2929714179906835, coeff=[1.5737442]\nonly_closeness: r^2=0.30673542058554815, coeff=[0.45353152]\npr_and_closeness: r^2=0.35416518931646945, coeff=[0.44676612 0.36929139]\nweighted: r^2=0.354549747149452, coeff=[0.37014197 0.09010324 0.37006656]\n"
     ]
    }
   ],
   "source": [
    "VERSIONS = {\n",
    "  'only_pr': [1], \n",
    "  'only_betweenness': [2],\n",
    "  'only_closeness': [3],\n",
    "  'pr_and_closeness': [1, 3],\n",
    "  'weighted': [1, 2, 3],\n",
    "}\n",
    "\n",
    "for name, indexes in VERSIONS.items():\n",
    "  features = with_graph_metrics.take([0] + indexes, 1)\n",
    "  dataset, coeff, r2 = learner.linear_regression(features)\n",
    "  datasets[name] = dataset\n",
    "  print('{n}: r^2={r2}, coeff={c}'.format(n=name, r2=r2, c=coeff))"
   ]
  },
  {
   "cell_type": "code",
   "execution_count": 44,
   "metadata": {
    "collapsed": false
   },
   "outputs": [
    {
     "name": "stdout",
     "output_type": "stream",
     "text": [
      "2.1435899981703272e+188\nbaseline: 1.0\nrandom: 0.157310319642317\nnaive: 0.39869350465721554\nonly_pr: 0.5249807203302599\nonly_betweenness: 0.3652083093261328\nonly_closeness: 0.34657434496786554\npr_and_closeness: 0.5272585189085583\nweighted: 0.44131327679884746\n"
     ]
    }
   ],
   "source": [
    "print(metrics.idcg)\n",
    "for_each_dataset(datasets, metrics.ndcg)"
   ]
  },
  {
   "cell_type": "code",
   "execution_count": 45,
   "metadata": {
    "collapsed": false
   },
   "outputs": [
    {
     "name": "stdout",
     "output_type": "stream",
     "text": [
      "n = 5\n"
     ]
    },
    {
     "name": "stdout",
     "output_type": "stream",
     "text": [
      "baseline: 1.0\nrandom: 0.0\nnaive: 0.2\nonly_pr: 0.2\nonly_betweenness: 0.2\nonly_closeness: 0.2\npr_and_closeness: 0.2\nweighted: 0.2\nn = 10\nbaseline: 1.0\nrandom: 0.0\nnaive: 0.2\nonly_pr: 0.1\nonly_betweenness: 0.2\nonly_closeness: 0.2\npr_and_closeness: 0.2\nweighted: 0.2\nn = 20\nbaseline: 1.0\nrandom: 0.1\nnaive: 0.2\nonly_pr: 0.15\nonly_betweenness: 0.2\nonly_closeness: 0.25\npr_and_closeness: 0.2\nweighted: 0.2\nn = 50\nbaseline: 1.0\nrandom: 0.04\nnaive: 0.34\nonly_pr: 0.34\nonly_betweenness: 0.3\nonly_closeness: 0.24\npr_and_closeness: 0.34\nweighted: 0.36\n"
     ]
    }
   ],
   "source": [
    "for n in [5, 10, 20, 50]:\n",
    "  print('n = {n}'.format(n=n))\n",
    "  for_each_dataset(datasets, lambda a: metrics.precision_at(n, a))"
   ]
  },
  {
   "cell_type": "code",
   "execution_count": 46,
   "metadata": {
    "collapsed": false
   },
   "outputs": [
    {
     "name": "stdout",
     "output_type": "stream",
     "text": [
      "baseline: KendalltauResult(correlation=1.0, pvalue=4.663665584756559e-306)\nrandom: KendalltauResult(correlation=-0.030410256410256412, pvalue=0.2554547652516961)\nnaive: KendalltauResult(correlation=0.5827897435897437, pvalue=2.6693803771270578e-105)\nonly_pr: KendalltauResult(correlation=0.41196923076923087, pvalue=1.4985409960734286e-53)\nonly_betweenness: KendalltauResult(correlation=0.4338564102564103, pvalue=3.402392102766875e-59)\nonly_closeness: KendalltauResult(correlation=0.48533333333333345, pvalue=1.3035081373469383e-73)\npr_and_closeness: KendalltauResult(correlation=0.48145641025641034, pvalue=1.8061148181007626e-72)\nweighted: KendalltauResult(correlation=0.48213333333333336, pvalue=1.1430589980383511e-72)\n"
     ]
    }
   ],
   "source": [
    "for_each_dataset(datasets, metrics.tau)"
   ]
  },
  {
   "cell_type": "code",
   "execution_count": 47,
   "metadata": {},
   "outputs": [
    {
     "name": "stdout",
     "output_type": "stream",
     "text": [
      "baseline: SpearmanrResult(correlation=1.0, pvalue=0.0)\nrandom: SpearmanrResult(correlation=-0.046381420496436475, pvalue=0.24693036736928112)\nnaive: SpearmanrResult(correlation=0.7604095846645368, pvalue=6.860797865181096e-119)\nonly_pr: SpearmanrResult(correlation=0.5774893094126322, pvalue=7.187626389684997e-57)\nonly_betweenness: SpearmanrResult(correlation=0.6084856230031949, pvalue=1.4419932528515797e-64)\nonly_closeness: SpearmanrResult(correlation=0.6689967068075695, pvalue=2.5170520604099495e-82)\npr_and_closeness: SpearmanrResult(correlation=0.6613519292209388, pvalue=7.476381815859652e-80)\nweighted: SpearmanrResult(correlation=0.6623923814204965, pvalue=3.478820824851354e-80)\n"
     ]
    }
   ],
   "source": [
    "for_each_dataset(datasets, metrics.rho)"
   ]
  },
  {
   "cell_type": "code",
   "execution_count": 48,
   "metadata": {},
   "outputs": [
    {
     "name": "stdout",
     "output_type": "stream",
     "text": [
      "baseline: 0.0\nrandom: 0.24814771023204962\nnaive: 0.07876901961651882\nonly_pr: 0.14266688304365666\nonly_betweenness: 0.18077572063367597\nonly_closeness: 0.13347453609204107\npr_and_closeness: 0.10002429059125684\nweighted: 0.09947651694583434\n"
     ]
    }
   ],
   "source": [
    "for_each_dataset(datasets, metrics.rmse)"
   ]
  },
  {
   "cell_type": "code",
   "execution_count": 49,
   "metadata": {},
   "outputs": [
    {
     "name": "stdout",
     "output_type": "stream",
     "text": [
      "baseline: 0.0\nrandom: 0.22936083268856614\nnaive: 0.05888074292785914\nonly_pr: 0.11407834442021708\nonly_betweenness: 0.14680929114886246\nonly_closeness: 0.09106674051023646\npr_and_closeness: 0.07296182375927146\nweighted: 0.07293279368735266\n"
     ]
    }
   ],
   "source": [
    "for_each_dataset(datasets, metrics.mae)"
   ]
  },
  {
   "cell_type": "code",
   "execution_count": 15,
   "metadata": {},
   "outputs": [],
   "source": [
    ""
   ]
  },
  {
   "cell_type": "code",
   "execution_count": null,
   "metadata": {},
   "outputs": [],
   "source": []
  }
 ],
 "metadata": {
  "kernelspec": {
   "display_name": "Python 2",
   "language": "python",
   "name": "python2"
  },
  "language_info": {
   "codemirror_mode": {
    "name": "ipython",
    "version": 2
   },
   "file_extension": ".py",
   "mimetype": "text/x-python",
   "name": "python",
   "nbconvert_exporter": "python",
   "pygments_lexer": "ipython2",
   "version": "2.7.6"
  }
 },
 "nbformat": 4,
 "nbformat_minor": 0
}
