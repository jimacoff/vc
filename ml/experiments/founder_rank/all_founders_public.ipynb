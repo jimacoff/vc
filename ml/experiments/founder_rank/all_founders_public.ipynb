{
 "cells": [
  {
   "cell_type": "code",
   "execution_count": 1,
   "metadata": {},
   "outputs": [],
   "source": [
    "%load_ext autoreload\n",
    "\n"
   ]
  },
  {
   "cell_type": "code",
   "execution_count": 2,
   "metadata": {},
   "outputs": [],
   "source": [
    "%autoreload 2"
   ]
  },
  {
   "cell_type": "code",
   "execution_count": 3,
   "metadata": {
    "collapsed": true
   },
   "outputs": [],
   "source": [
    "import numpy as np\n",
    "from experiments.founder_rank.helpers import *\n",
    "import experiments.founder_rank.metrics as metric\n",
    "import experiments.founder_rank.learner as learn"
   ]
  },
  {
   "cell_type": "code",
   "execution_count": 4,
   "metadata": {},
   "outputs": [],
   "source": [
    "import experiments.founder_rank.data.public.baseline as baseline\n",
    "import experiments.founder_rank.data.public.random as random\n",
    "import experiments.founder_rank.data.public.naive as naive\n",
    "import experiments.founder_rank.data.public.graph_metrics as graph_metrics"
   ]
  },
  {
   "cell_type": "code",
   "execution_count": 37,
   "metadata": {},
   "outputs": [],
   "source": [
    "datasets = get_datasets([baseline, random, naive])\n",
    "with_graph_metrics = get_dataset(graph_metrics)"
   ]
  },
  {
   "cell_type": "code",
   "execution_count": 43,
   "metadata": {},
   "outputs": [],
   "source": [
    "metrics = metric.Metrics(datasets['baseline'], power_dcg=False)\n",
    "learner = learn.Learner(datasets['baseline'])"
   ]
  },
  {
   "cell_type": "code",
   "execution_count": 44,
   "metadata": {},
   "outputs": [
    {
     "data": {
      "text/plain": [
       "array([[1.        , 0.57831298, 0.12559522],\n       [0.57831298, 1.        , 0.16451425],\n       [0.12559522, 0.16451425, 1.        ]])"
      ]
     },
     "execution_count": 44,
     "metadata": {},
     "output_type": "execute_result"
    }
   ],
   "source": [
    "only_pr = with_graph_metrics.take([0, 1], 1)\n",
    "only_betweenness = with_graph_metrics.take([0, 2], 1)\n",
    "only_closeness = with_graph_metrics.take([0, 3], 1)\n",
    "\n",
    "np.corrcoef(with_graph_metrics[:, 1:], rowvar=False)"
   ]
  },
  {
   "cell_type": "code",
   "execution_count": 45,
   "metadata": {},
   "outputs": [
    {
     "name": "stdout",
     "output_type": "stream",
     "text": [
      "only_pr: r^2=-0.13469855889867488, coeff=[57.40372574]\n"
     ]
    },
    {
     "name": "stdout",
     "output_type": "stream",
     "text": [
      "only_betweenness: r^2=-0.568618244655507, coeff=[91.58994046]\n"
     ]
    },
    {
     "name": "stdout",
     "output_type": "stream",
     "text": [
      "only_closeness: r^2=-0.1611648440224529, coeff=[0.81596813]\n"
     ]
    },
    {
     "name": "stdout",
     "output_type": "stream",
     "text": [
      "pr_and_closeness: r^2=0.04173914664102063, coeff=[41.72022057  0.56968665]\n"
     ]
    },
    {
     "name": "stdout",
     "output_type": "stream",
     "text": [
      "weighted: r^2=0.06680371418467679, coeff=[  48.32209038 -102.73220238    0.56982867]\n"
     ]
    }
   ],
   "source": [
    "VERSIONS = {\n",
    "  'only_pr': [1], \n",
    "  'only_betweenness': [2],\n",
    "  'only_closeness': [3],\n",
    "  'pr_and_closeness': [1, 3],\n",
    "  'weighted': [1, 2, 3],\n",
    "}\n",
    "\n",
    "for name, indexes in VERSIONS.items():\n",
    "  features = with_graph_metrics.take([0] + indexes, 1)\n",
    "  dataset, coeff, r2 = learner.linear_regression(features)\n",
    "  datasets[name] = dataset\n",
    "  print('{n}: r^2={r2}, coeff={c}'.format(n=name, r2=r2, c=coeff))"
   ]
  },
  {
   "cell_type": "code",
   "execution_count": 46,
   "metadata": {
    "collapsed": false
   },
   "outputs": [
    {
     "name": "stdout",
     "output_type": "stream",
     "text": [
      "1803120882.6055367\nbaseline: 1.0\nrandom: 0.9525226472105175\nnaive: 0.9724056551953735\nonly_pr: 0.9606067920960051\nonly_betweenness: 0.9601154173010412\nonly_closeness: 0.9732083638709818\npr_and_closeness: 0.9714278014121187\nweighted: 0.9711439742848593\n"
     ]
    }
   ],
   "source": [
    "print(metrics.idcg)\n",
    "for_each_dataset(datasets, metrics.ndcg)"
   ]
  },
  {
   "cell_type": "code",
   "execution_count": 47,
   "metadata": {
    "collapsed": false
   },
   "outputs": [
    {
     "name": "stdout",
     "output_type": "stream",
     "text": [
      "n = 5\nbaseline: 1.0\nrandom: 0.0\nnaive: 0.0\nonly_pr: 0.0\nonly_betweenness: 0.0\nonly_closeness: 0.0\npr_and_closeness: 0.0\nweighted: 0.0\nn = 10\nbaseline: 1.0\nrandom: 0.0\nnaive: 0.0\nonly_pr: 0.0\nonly_betweenness: 0.0\nonly_closeness: 0.0\npr_and_closeness: 0.0\nweighted: 0.0\nn = 20\nbaseline: 1.0\nrandom: 0.0\nnaive: 0.0\nonly_pr: 0.0\nonly_betweenness: 0.0\nonly_closeness: 0.0\npr_and_closeness: 0.0\nweighted: 0.0\nn = 50\nbaseline: 1.0\nrandom: 0.0\nnaive: 0.04\nonly_pr: 0.02\nonly_betweenness: 0.02\nonly_closeness: 0.04\npr_and_closeness: 0.02\nweighted: 0.04\n"
     ]
    }
   ],
   "source": [
    "for n in [5, 10, 20, 50]:\n",
    "  print('n = {n}'.format(n=n))\n",
    "  for_each_dataset(datasets, lambda a: metrics.precision_at(n, a))"
   ]
  },
  {
   "cell_type": "code",
   "execution_count": 48,
   "metadata": {},
   "outputs": [
    {
     "name": "stdout",
     "output_type": "stream",
     "text": [
      "baseline: KendalltauResult(correlation=1.0, pvalue=0.0)\nrandom: KendalltauResult(correlation=-0.002101690945191333, pvalue=0.1254972941765598)\nnaive: KendalltauResult(correlation=0.19646417676574224, pvalue=0.0)\n"
     ]
    },
    {
     "name": "stdout",
     "output_type": "stream",
     "text": [
      "only_pr: KendalltauResult(correlation=0.06565058699698476, pvalue=0.0)\nonly_betweenness: KendalltauResult(correlation=0.058010898449219785, pvalue=0.0)\nonly_closeness: KendalltauResult(correlation=0.22447604757013556, pvalue=0.0)\n"
     ]
    },
    {
     "name": "stdout",
     "output_type": "stream",
     "text": [
      "pr_and_closeness: KendalltauResult(correlation=0.1804335588801785, pvalue=0.0)\nweighted: KendalltauResult(correlation=0.17794678461160882, pvalue=0.0)\n"
     ]
    }
   ],
   "source": [
    "for_each_dataset(datasets, metrics.tau)"
   ]
  },
  {
   "cell_type": "code",
   "execution_count": 49,
   "metadata": {},
   "outputs": [
    {
     "name": "stdout",
     "output_type": "stream",
     "text": [
      "baseline: SpearmanrResult(correlation=1.0, pvalue=0.0)\nrandom: SpearmanrResult(correlation=-0.0031566060735662245, pvalue=0.12500830788573242)\n"
     ]
    },
    {
     "name": "stdout",
     "output_type": "stream",
     "text": [
      "naive: SpearmanrResult(correlation=0.2866418715834115, pvalue=0.0)\n"
     ]
    },
    {
     "name": "stdout",
     "output_type": "stream",
     "text": [
      "only_pr: SpearmanrResult(correlation=0.10056001978280668, pvalue=0.0)\nonly_betweenness: SpearmanrResult(correlation=0.06908893594516373, pvalue=9.536325566459976e-248)\nonly_closeness: SpearmanrResult(correlation=0.3328461191322523, pvalue=0.0)\n"
     ]
    },
    {
     "name": "stdout",
     "output_type": "stream",
     "text": [
      "pr_and_closeness: SpearmanrResult(correlation=0.2665309669515533, pvalue=0.0)\nweighted: SpearmanrResult(correlation=0.26368731829099146, pvalue=0.0)\n"
     ]
    }
   ],
   "source": [
    "for_each_dataset(datasets, metrics.rho)"
   ]
  },
  {
   "cell_type": "code",
   "execution_count": 50,
   "metadata": {},
   "outputs": [
    {
     "name": "stdout",
     "output_type": "stream",
     "text": [
      "baseline: 0.0\nrandom: 0.30834491798775665\nnaive: 0.19532538950468056\nonly_pr: 0.2424218508371321\nonly_betweenness: 0.36020289284105356\nonly_closeness: 0.211302624132106\npr_and_closeness: 0.18301138994497348\nweighted: 0.17767162884143872\n"
     ]
    }
   ],
   "source": [
    "for_each_dataset(datasets, metrics.rmse)"
   ]
  },
  {
   "cell_type": "code",
   "execution_count": 51,
   "metadata": {},
   "outputs": [
    {
     "name": "stdout",
     "output_type": "stream",
     "text": [
      "baseline: 0.0\nrandom: 0.27720060090517534\nnaive: 0.1279168415539647\nonly_pr: 0.1582038220172902\nonly_betweenness: 0.2205776831817472\nonly_closeness: 0.13888925485228168\npr_and_closeness: 0.1327591535517456\nweighted: 0.13287532087670265\n"
     ]
    }
   ],
   "source": [
    "for_each_dataset(datasets, metrics.mae)"
   ]
  },
  {
   "cell_type": "code",
   "execution_count": 15,
   "metadata": {},
   "outputs": [],
   "source": [
    ""
   ]
  },
  {
   "cell_type": "code",
   "execution_count": null,
   "metadata": {},
   "outputs": [],
   "source": []
  }
 ],
 "metadata": {
  "kernelspec": {
   "display_name": "Python 2",
   "language": "python",
   "name": "python2"
  },
  "language_info": {
   "codemirror_mode": {
    "name": "ipython",
    "version": 2
   },
   "file_extension": ".py",
   "mimetype": "text/x-python",
   "name": "python",
   "nbconvert_exporter": "python",
   "pygments_lexer": "ipython2",
   "version": "2.7.6"
  }
 },
 "nbformat": 4,
 "nbformat_minor": 0
}
