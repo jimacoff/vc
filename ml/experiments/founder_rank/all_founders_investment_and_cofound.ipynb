{
 "cells": [
  {
   "cell_type": "code",
   "execution_count": 1,
   "metadata": {},
   "outputs": [],
   "source": [
    "%load_ext autoreload\n",
    "\n"
   ]
  },
  {
   "cell_type": "code",
   "execution_count": 2,
   "metadata": {},
   "outputs": [],
   "source": [
    "%autoreload 2"
   ]
  },
  {
   "cell_type": "code",
   "execution_count": 3,
   "metadata": {
    "collapsed": true
   },
   "outputs": [],
   "source": [
    "import numpy as np\n",
    "from experiments.founder_rank.helpers import *\n",
    "import experiments.founder_rank.metrics as metric\n",
    "import experiments.founder_rank.learner as learn"
   ]
  },
  {
   "cell_type": "code",
   "execution_count": 4,
   "metadata": {},
   "outputs": [],
   "source": [
    "import experiments.founder_rank.data.investment_and_cofound.baseline as baseline\n",
    "import experiments.founder_rank.data.investment_and_cofound.random as random\n",
    "import experiments.founder_rank.data.investment_and_cofound.naive as naive\n",
    "import experiments.founder_rank.data.investment_and_cofound.graph_metrics as graph_metrics"
   ]
  },
  {
   "cell_type": "code",
   "execution_count": 5,
   "metadata": {},
   "outputs": [],
   "source": [
    "datasets = get_datasets([baseline, random, naive])\n",
    "with_graph_metrics = get_dataset(graph_metrics)"
   ]
  },
  {
   "cell_type": "code",
   "execution_count": 6,
   "metadata": {},
   "outputs": [],
   "source": [
    "metrics = metric.Metrics(datasets['baseline'], power_dcg=False)\n",
    "learner = learn.Learner(datasets['baseline'])"
   ]
  },
  {
   "cell_type": "code",
   "execution_count": 7,
   "metadata": {},
   "outputs": [
    {
     "data": {
      "text/plain": [
       "array([[1.        , 0.65859893, 0.3435863 ],\n       [0.65859893, 1.        , 0.17499308],\n       [0.3435863 , 0.17499308, 1.        ]])"
      ]
     },
     "execution_count": 7,
     "metadata": {},
     "output_type": "execute_result"
    }
   ],
   "source": [
    "only_pr = with_graph_metrics.take([0, 1], 1)\n",
    "only_betweenness = with_graph_metrics.take([0, 2], 1)\n",
    "only_closeness = with_graph_metrics.take([0, 3], 1)\n",
    "\n",
    "np.corrcoef(with_graph_metrics[:, 1:], rowvar=False)"
   ]
  },
  {
   "cell_type": "code",
   "execution_count": 8,
   "metadata": {},
   "outputs": [
    {
     "name": "stdout",
     "output_type": "stream",
     "text": [
      "only_pr: r^2=-0.006481642362117901, coeff=[30.57060321]\n"
     ]
    },
    {
     "name": "stdout",
     "output_type": "stream",
     "text": [
      "only_betweenness: r^2=-0.5962168698993546, coeff=[60.70432762]\n"
     ]
    },
    {
     "name": "stdout",
     "output_type": "stream",
     "text": [
      "only_closeness: r^2=0.2188555498270558, coeff=[0.70325494]\n"
     ]
    },
    {
     "name": "stdout",
     "output_type": "stream",
     "text": [
      "pr_and_closeness: r^2=0.26413075062190283, coeff=[11.28637149  0.54691204]\n"
     ]
    },
    {
     "name": "stdout",
     "output_type": "stream",
     "text": [
      "weighted: r^2=0.2718193972451778, coeff=[ 14.25471651 -26.5096559    0.5233239 ]\n"
     ]
    }
   ],
   "source": [
    "VERSIONS = {\n",
    "  'only_pr': [1], \n",
    "  'only_betweenness': [2],\n",
    "  'only_closeness': [3],\n",
    "  'pr_and_closeness': [1, 3],\n",
    "  'weighted': [1, 2, 3],\n",
    "}\n",
    "\n",
    "for name, indexes in VERSIONS.items():\n",
    "  features = with_graph_metrics.take([0] + indexes, 1)\n",
    "  dataset, coeff, r2 = learner.linear_regression(features)\n",
    "  datasets[name] = dataset\n",
    "  print('{n}: r^2={r2}, coeff={c}'.format(n=name, r2=r2, c=coeff))"
   ]
  },
  {
   "cell_type": "code",
   "execution_count": 9,
   "metadata": {
    "collapsed": false
   },
   "outputs": [
    {
     "name": "stdout",
     "output_type": "stream",
     "text": [
      "1964609088.4837651\nbaseline: 1.0\nrandom: 0.9528180967878405\nnaive: 0.9789751508582549\nonly_pr: 0.9708847769603616\nonly_betweenness: 0.9754635262323714\nonly_closeness: 0.9788452388951241\npr_and_closeness: 0.9789606497449884\nweighted: 0.978755115019986\n"
     ]
    }
   ],
   "source": [
    "print(metrics.idcg)\n",
    "for_each_dataset(datasets, metrics.ndcg)"
   ]
  },
  {
   "cell_type": "code",
   "execution_count": 10,
   "metadata": {
    "collapsed": false
   },
   "outputs": [
    {
     "name": "stdout",
     "output_type": "stream",
     "text": [
      "n = 5\nbaseline: 1.0\nrandom: 0.0\nnaive: 0.0\nonly_pr: 0.0\nonly_betweenness: 0.0\nonly_closeness: 0.0\npr_and_closeness: 0.0\nweighted: 0.0\nn = 10\nbaseline: 1.0\nrandom: 0.0\nnaive: 0.0\nonly_pr: 0.0\nonly_betweenness: 0.0\nonly_closeness: 0.0\npr_and_closeness: 0.0\nweighted: 0.0\nn = 20\nbaseline: 1.0\nrandom: 0.0\nnaive: 0.0\nonly_pr: 0.0\nonly_betweenness: 0.0\nonly_closeness: 0.0\npr_and_closeness: 0.0\nweighted: 0.0\nn = 50\nbaseline: 1.0\nrandom: 0.0\nnaive: 0.12\nonly_pr: 0.12\nonly_betweenness: 0.12\nonly_closeness: 0.12\npr_and_closeness: 0.12\nweighted: 0.1\n"
     ]
    }
   ],
   "source": [
    "for n in [5, 10, 20, 50]:\n",
    "  print('n = {n}'.format(n=n))\n",
    "  for_each_dataset(datasets, lambda a: metrics.precision_at(n, a))"
   ]
  },
  {
   "cell_type": "code",
   "execution_count": 11,
   "metadata": {},
   "outputs": [
    {
     "name": "stdout",
     "output_type": "stream",
     "text": [
      "baseline: KendalltauResult(correlation=1.0, pvalue=0.0)\n"
     ]
    },
    {
     "name": "stdout",
     "output_type": "stream",
     "text": [
      "random: KendalltauResult(correlation=0.0008144143335145558, pvalue=0.5437096574294189)\nnaive: KendalltauResult(correlation=0.3412064981644293, pvalue=0.0)\n"
     ]
    },
    {
     "name": "stdout",
     "output_type": "stream",
     "text": [
      "only_pr: KendalltauResult(correlation=0.1841362850505524, pvalue=0.0)\nonly_betweenness: KendalltauResult(correlation=0.2994795576841436, pvalue=0.0)\nonly_closeness: KendalltauResult(correlation=0.3436571033592722, pvalue=0.0)\n"
     ]
    },
    {
     "name": "stdout",
     "output_type": "stream",
     "text": [
      "pr_and_closeness: KendalltauResult(correlation=0.3352705267642315, pvalue=0.0)\nweighted: KendalltauResult(correlation=0.3350259694535666, pvalue=0.0)\n"
     ]
    }
   ],
   "source": [
    "for_each_dataset(datasets, metrics.tau)"
   ]
  },
  {
   "cell_type": "code",
   "execution_count": 12,
   "metadata": {
    "collapsed": false
   },
   "outputs": [
    {
     "name": "stdout",
     "output_type": "stream",
     "text": [
      "baseline: SpearmanrResult(correlation=1.0, pvalue=0.0)\nrandom: SpearmanrResult(correlation=0.001218827489270819, pvalue=0.5446306104339929)\n"
     ]
    },
    {
     "name": "stdout",
     "output_type": "stream",
     "text": [
      "naive: SpearmanrResult(correlation=0.4924667544460554, pvalue=0.0)\n"
     ]
    },
    {
     "name": "stdout",
     "output_type": "stream",
     "text": [
      "only_pr: SpearmanrResult(correlation=0.2720134626289287, pvalue=0.0)\n"
     ]
    },
    {
     "name": "stdout",
     "output_type": "stream",
     "text": [
      "only_betweenness: SpearmanrResult(correlation=0.4393838784521557, pvalue=0.0)\n"
     ]
    },
    {
     "name": "stdout",
     "output_type": "stream",
     "text": [
      "only_closeness: SpearmanrResult(correlation=0.4953280457576795, pvalue=0.0)\n"
     ]
    },
    {
     "name": "stdout",
     "output_type": "stream",
     "text": [
      "pr_and_closeness: SpearmanrResult(correlation=0.4886452387016201, pvalue=0.0)\nweighted: SpearmanrResult(correlation=0.48771723949425655, pvalue=0.0)\n"
     ]
    }
   ],
   "source": [
    "for_each_dataset(datasets, metrics.rho)"
   ]
  },
  {
   "cell_type": "code",
   "execution_count": 13,
   "metadata": {
    "collapsed": true
   },
   "outputs": [
    {
     "name": "stdout",
     "output_type": "stream",
     "text": [
      "baseline: 0.0\nrandom: 0.27900201481672304\nnaive: 0.1735016630215673\nonly_pr: 0.23179383887422073\nonly_betweenness: 0.3885363757334465\nonly_closeness: 0.16710389854772648\npr_and_closeness: 0.16197747238606908\nweighted: 0.16277826407220852\n"
     ]
    }
   ],
   "source": [
    "for_each_dataset(datasets, metrics.rmse)"
   ]
  },
  {
   "cell_type": "code",
   "execution_count": 14,
   "metadata": {},
   "outputs": [
    {
     "name": "stdout",
     "output_type": "stream",
     "text": [
      "baseline: 0.0\nrandom: 0.24602061654528673\nnaive: 0.10604265460528023\nonly_pr: 0.17109361801483874\nonly_betweenness: 0.24512170213430184\nonly_closeness: 0.1020106393675559\npr_and_closeness: 0.11979772510829458\nweighted: 0.1253377583543128\n"
     ]
    }
   ],
   "source": [
    "for_each_dataset(datasets, metrics.mae)"
   ]
  },
  {
   "cell_type": "code",
   "execution_count": 15,
   "metadata": {},
   "outputs": [],
   "source": [
    ""
   ]
  },
  {
   "cell_type": "code",
   "execution_count": null,
   "metadata": {},
   "outputs": [],
   "source": []
  }
 ],
 "metadata": {
  "kernelspec": {
   "display_name": "Python 2",
   "language": "python",
   "name": "python2"
  },
  "language_info": {
   "codemirror_mode": {
    "name": "ipython",
    "version": 2
   },
   "file_extension": ".py",
   "mimetype": "text/x-python",
   "name": "python",
   "nbconvert_exporter": "python",
   "pygments_lexer": "ipython2",
   "version": "2.7.6"
  }
 },
 "nbformat": 4,
 "nbformat_minor": 0
}
