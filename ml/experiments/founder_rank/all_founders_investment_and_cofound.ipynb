{
 "cells": [
  {
   "cell_type": "code",
   "execution_count": 1,
   "metadata": {},
   "outputs": [],
   "source": [
    "%load_ext autoreload\n",
    "\n"
   ]
  },
  {
   "cell_type": "code",
   "execution_count": 2,
   "metadata": {},
   "outputs": [],
   "source": [
    "%autoreload 2"
   ]
  },
  {
   "cell_type": "code",
   "execution_count": 3,
   "metadata": {
    "collapsed": true
   },
   "outputs": [],
   "source": [
    "import numpy as np\n",
    "from experiments.founder_rank.helpers import *\n",
    "import experiments.founder_rank.metrics as metric\n",
    "import experiments.founder_rank.learner as learn"
   ]
  },
  {
   "cell_type": "code",
   "execution_count": 4,
   "metadata": {},
   "outputs": [],
   "source": [
    "import experiments.founder_rank.data.investment_and_cofound.baseline as baseline\n",
    "import experiments.founder_rank.data.investment_and_cofound.random as random\n",
    "import experiments.founder_rank.data.investment_and_cofound.naive as naive\n",
    "import experiments.founder_rank.data.investment_and_cofound.graph_metrics as graph_metrics"
   ]
  },
  {
   "cell_type": "code",
   "execution_count": 5,
   "metadata": {},
   "outputs": [],
   "source": [
    "datasets = get_datasets([baseline, random, naive])\n",
    "with_graph_metrics = get_dataset(graph_metrics)"
   ]
  },
  {
   "cell_type": "code",
   "execution_count": 6,
   "metadata": {},
   "outputs": [],
   "source": [
    "metrics = metric.Metrics(datasets['baseline'], power_dcg=False)\n",
    "learner = learn.Learner(datasets['baseline'])"
   ]
  },
  {
   "cell_type": "code",
   "execution_count": 7,
   "metadata": {},
   "outputs": [
    {
     "data": {
      "text/plain": [
       "array([[1.        , 0.57454517, 0.16183291],\n       [0.57454517, 1.        , 0.16202516],\n       [0.16183291, 0.16202516, 1.        ]])"
      ]
     },
     "execution_count": 7,
     "metadata": {},
     "output_type": "execute_result"
    }
   ],
   "source": [
    "only_pr = with_graph_metrics.take([0, 1], 1)\n",
    "only_betweenness = with_graph_metrics.take([0, 2], 1)\n",
    "only_closeness = with_graph_metrics.take([0, 3], 1)\n",
    "\n",
    "np.corrcoef(with_graph_metrics[:, 1:], rowvar=False)"
   ]
  },
  {
   "cell_type": "code",
   "execution_count": 8,
   "metadata": {},
   "outputs": [
    {
     "name": "stdout",
     "output_type": "stream",
     "text": [
      "only_pr: r^2=-0.10106372204279035, coeff=[41.98207943]\n"
     ]
    },
    {
     "name": "stdout",
     "output_type": "stream",
     "text": [
      "only_betweenness: r^2=-0.5643993618267507, coeff=[62.98753644]\n"
     ]
    },
    {
     "name": "stdout",
     "output_type": "stream",
     "text": [
      "only_closeness: r^2=-0.24430563840270803, coeff=[7.6272336]\n"
     ]
    },
    {
     "name": "stdout",
     "output_type": "stream",
     "text": [
      "pr_and_closeness: r^2=0.012302550255162248, coeff=[33.11544536  4.7490373 ]\n"
     ]
    },
    {
     "name": "stdout",
     "output_type": "stream",
     "text": [
      "weighted: r^2=0.03588064392600687, coeff=[ 37.61174324 -63.25918829   4.74786034]\n"
     ]
    }
   ],
   "source": [
    "VERSIONS = {\n",
    "  'only_pr': [1], \n",
    "  'only_betweenness': [2],\n",
    "  'only_closeness': [3],\n",
    "  'pr_and_closeness': [1, 3],\n",
    "  'weighted': [1, 2, 3],\n",
    "}\n",
    "\n",
    "for name, indexes in VERSIONS.items():\n",
    "  features = with_graph_metrics.take([0] + indexes, 1)\n",
    "  dataset, coeff, r2 = learner.linear_regression(features)\n",
    "  datasets[name] = dataset\n",
    "  print('{n}: r^2={r2}, coeff={c}'.format(n=name, r2=r2, c=coeff))"
   ]
  },
  {
   "cell_type": "code",
   "execution_count": 9,
   "metadata": {
    "collapsed": false
   },
   "outputs": [
    {
     "name": "stdout",
     "output_type": "stream",
     "text": [
      "1803120882.6055367\nbaseline: 1.0\nrandom: 0.952223680334966\nnaive: 0.9726146508370804\nonly_pr: 0.9639050292229764\nonly_betweenness: 0.9666255491116394\nonly_closeness: 0.9728868277889354\npr_and_closeness: 0.9718675463983085\nweighted: 0.9713188105382154\n"
     ]
    }
   ],
   "source": [
    "print(metrics.idcg)\n",
    "for_each_dataset(datasets, metrics.ndcg)"
   ]
  },
  {
   "cell_type": "code",
   "execution_count": 10,
   "metadata": {
    "collapsed": false
   },
   "outputs": [
    {
     "name": "stdout",
     "output_type": "stream",
     "text": [
      "n = 5\nbaseline: 1.0\nrandom: 0.0\nnaive: 0.0\nonly_pr: 0.0\nonly_betweenness: 0.0\nonly_closeness: 0.0\npr_and_closeness: 0.0\nweighted: 0.0\nn = 10\nbaseline: 1.0\nrandom: 0.0\nnaive: 0.0\nonly_pr: 0.0\nonly_betweenness: 0.0\nonly_closeness: 0.0\npr_and_closeness: 0.0\nweighted: 0.0\nn = 20\nbaseline: 1.0\nrandom: 0.0\nnaive: 0.0\nonly_pr: 0.0\nonly_betweenness: 0.0\nonly_closeness: 0.0\npr_and_closeness: 0.0\nweighted: 0.0\nn = 50\nbaseline: 1.0\nrandom: 0.0\nnaive: 0.02\nonly_pr: 0.02\nonly_betweenness: 0.02\nonly_closeness: 0.02\npr_and_closeness: 0.02\nweighted: 0.0\n"
     ]
    }
   ],
   "source": [
    "for n in [5, 10, 20, 50]:\n",
    "  print('n = {n}'.format(n=n))\n",
    "  for_each_dataset(datasets, lambda a: metrics.precision_at(n, a))"
   ]
  },
  {
   "cell_type": "code",
   "execution_count": 11,
   "metadata": {},
   "outputs": [
    {
     "name": "stdout",
     "output_type": "stream",
     "text": [
      "baseline: KendalltauResult(correlation=1.0, pvalue=0.0)\nrandom: KendalltauResult(correlation=-0.0011156797449876057, pvalue=0.4160379505058296)\nnaive: KendalltauResult(correlation=0.21874994636037004, pvalue=0.0)\n"
     ]
    },
    {
     "name": "stdout",
     "output_type": "stream",
     "text": [
      "only_pr: KendalltauResult(correlation=0.10864452090002644, pvalue=0.0)\n"
     ]
    },
    {
     "name": "stdout",
     "output_type": "stream",
     "text": [
      "only_betweenness: KendalltauResult(correlation=0.10210649594105105, pvalue=0.0)\nonly_closeness: KendalltauResult(correlation=0.2447493098926, pvalue=0.0)\n"
     ]
    },
    {
     "name": "stdout",
     "output_type": "stream",
     "text": [
      "pr_and_closeness: KendalltauResult(correlation=0.19428136066025287, pvalue=0.0)\nweighted: KendalltauResult(correlation=0.1928616696559311, pvalue=0.0)\n"
     ]
    }
   ],
   "source": [
    "for_each_dataset(datasets, metrics.tau)"
   ]
  },
  {
   "cell_type": "code",
   "execution_count": 16,
   "metadata": {
    "collapsed": false
   },
   "outputs": [
    {
     "name": "stdout",
     "output_type": "stream",
     "text": [
      "baseline: SpearmanrResult(correlation=1.0, pvalue=0.0)\nrandom: SpearmanrResult(correlation=-0.001677123237573021, pvalue=0.4150335017596123)\nnaive: SpearmanrResult(correlation=0.31538089047266643, pvalue=0.0)\n"
     ]
    },
    {
     "name": "stdout",
     "output_type": "stream",
     "text": [
      "only_pr: SpearmanrResult(correlation=0.16685988762607853, pvalue=0.0)\nonly_betweenness: SpearmanrResult(correlation=0.14459547289399963, pvalue=0.0)\nonly_closeness: SpearmanrResult(correlation=0.35730751669923916, pvalue=0.0)\n"
     ]
    },
    {
     "name": "stdout",
     "output_type": "stream",
     "text": [
      "pr_and_closeness: SpearmanrResult(correlation=0.28438804987810185, pvalue=0.0)\nweighted: SpearmanrResult(correlation=0.2825024420538625, pvalue=0.0)\n"
     ]
    }
   ],
   "source": [
    "for_each_dataset(datasets, metrics.rho)"
   ]
  },
  {
   "cell_type": "code",
   "execution_count": 17,
   "metadata": {
    "collapsed": true
   },
   "outputs": [
    {
     "name": "stdout",
     "output_type": "stream",
     "text": [
      "baseline: 0.0\nrandom: 0.30832605880776437\nnaive: 0.33882752090101576\nonly_pr: 0.24104172617185976\nonly_betweenness: 0.36002951005844636\nonly_closeness: 0.24082281617850881\npr_and_closeness: 0.20326171161160123\nweighted: 0.19741332031333797\n"
     ]
    }
   ],
   "source": [
    "for_each_dataset(datasets, metrics.rmse)"
   ]
  },
  {
   "cell_type": "code",
   "execution_count": 14,
   "metadata": {},
   "outputs": [
    {
     "name": "stdout",
     "output_type": "stream",
     "text": [
      "baseline: 0.0\nrandom: 0.2770558819972338\nnaive: 0.20948839672996178\nonly_pr: 0.159347902362262\nonly_betweenness: 0.22043264703356732\nonly_closeness: 0.15443754216880398\npr_and_closeness: 0.14436619493368347\nweighted: 0.14440584977840926\n"
     ]
    }
   ],
   "source": [
    "for_each_dataset(datasets, metrics.mae)"
   ]
  },
  {
   "cell_type": "code",
   "execution_count": 15,
   "metadata": {},
   "outputs": [],
   "source": [
    ""
   ]
  },
  {
   "cell_type": "code",
   "execution_count": null,
   "metadata": {},
   "outputs": [],
   "source": []
  }
 ],
 "metadata": {
  "kernelspec": {
   "display_name": "Python 2",
   "language": "python",
   "name": "python2"
  },
  "language_info": {
   "codemirror_mode": {
    "name": "ipython",
    "version": 2
   },
   "file_extension": ".py",
   "mimetype": "text/x-python",
   "name": "python",
   "nbconvert_exporter": "python",
   "pygments_lexer": "ipython2",
   "version": "2.7.6"
  }
 },
 "nbformat": 4,
 "nbformat_minor": 0
}
