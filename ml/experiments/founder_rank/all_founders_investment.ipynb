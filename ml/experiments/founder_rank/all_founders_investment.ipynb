{
 "cells": [
  {
   "cell_type": "code",
   "execution_count": 1,
   "metadata": {},
   "outputs": [],
   "source": [
    "%load_ext autoreload\n",
    "\n"
   ]
  },
  {
   "cell_type": "code",
   "execution_count": 2,
   "metadata": {},
   "outputs": [],
   "source": [
    "%autoreload 2"
   ]
  },
  {
   "cell_type": "code",
   "execution_count": 3,
   "metadata": {
    "collapsed": true
   },
   "outputs": [],
   "source": [
    "import numpy as np\n",
    "from experiments.founder_rank.helpers import *\n",
    "import experiments.founder_rank.metrics as metric\n",
    "import experiments.founder_rank.learner as learn"
   ]
  },
  {
   "cell_type": "code",
   "execution_count": 4,
   "metadata": {},
   "outputs": [],
   "source": [
    "import experiments.founder_rank.data.investment.baseline as baseline\n",
    "import experiments.founder_rank.data.investment.random as random\n",
    "import experiments.founder_rank.data.investment.naive as naive\n",
    "import experiments.founder_rank.data.investment.graph_metrics as graph_metrics"
   ]
  },
  {
   "cell_type": "code",
   "execution_count": 5,
   "metadata": {},
   "outputs": [],
   "source": [
    "datasets = get_datasets([baseline, random, naive])\n",
    "with_graph_metrics = get_dataset(graph_metrics)"
   ]
  },
  {
   "cell_type": "code",
   "execution_count": 6,
   "metadata": {},
   "outputs": [],
   "source": [
    "metrics = metric.Metrics(datasets['baseline'], power_dcg=False)\n",
    "learner = learn.Learner(datasets['baseline'])"
   ]
  },
  {
   "cell_type": "code",
   "execution_count": 7,
   "metadata": {},
   "outputs": [
    {
     "data": {
      "text/plain": [
       "array([[1.        , 0.76000463, 0.35484485],\n       [0.76000463, 1.        , 0.21222604],\n       [0.35484485, 0.21222604, 1.        ]])"
      ]
     },
     "execution_count": 7,
     "metadata": {},
     "output_type": "execute_result"
    }
   ],
   "source": [
    "only_pr = with_graph_metrics.take([0, 1], 1)\n",
    "only_betweenness = with_graph_metrics.take([0, 2], 1)\n",
    "only_closeness = with_graph_metrics.take([0, 3], 1)\n",
    "\n",
    "np.corrcoef(with_graph_metrics[:, 1:], rowvar=False)"
   ]
  },
  {
   "cell_type": "code",
   "execution_count": 16,
   "metadata": {
    "collapsed": false
   },
   "outputs": [
    {
     "name": "stdout",
     "output_type": "stream",
     "text": [
      "only_pr: r^2=-0.5392184385987802, coeff=[144.21423799]\n"
     ]
    },
    {
     "name": "stdout",
     "output_type": "stream",
     "text": [
      "only_betweenness: r^2=-0.5768362305172867, coeff=[67.0840959]\n"
     ]
    },
    {
     "name": "stdout",
     "output_type": "stream",
     "text": [
      "only_closeness: r^2=-0.2691113407757981, coeff=[1.09012603]\n"
     ]
    },
    {
     "name": "stdout",
     "output_type": "stream",
     "text": [
      "pr_and_closeness: r^2=-0.2685029490932811, coeff=[16.44256587  1.0714152 ]\n"
     ]
    },
    {
     "name": "stdout",
     "output_type": "stream",
     "text": [
      "weighted: r^2=-0.2680719875387578, coeff=[ 32.10256797 -16.75835955   1.06698029]\n"
     ]
    }
   ],
   "source": [
    "VERSIONS = {\n",
    "  'only_pr': [1], \n",
    "  'only_betweenness': [2],\n",
    "  'only_closeness': [3],\n",
    "  'pr_and_closeness': [1, 3],\n",
    "  'weighted': [1, 2, 3],\n",
    "}\n",
    "\n",
    "for name, indexes in VERSIONS.items():\n",
    "  features = with_graph_metrics.take([0] + indexes, 1)\n",
    "  dataset, coeff, r2 = learner.linear_regression(features)\n",
    "  datasets[name] = dataset\n",
    "  print('{n}: r^2={r2}, coeff={c}'.format(n=name, r2=r2, c=coeff))"
   ]
  },
  {
   "cell_type": "code",
   "execution_count": 9,
   "metadata": {
    "collapsed": false
   },
   "outputs": [
    {
     "name": "stdout",
     "output_type": "stream",
     "text": [
      "1803120882.6055367\nbaseline: 1.0\nrandom: 0.9524780322207984\nnaive: 0.9609908921963669\nonly_pr: 0.9699740985636137\nonly_betweenness: 0.9644981784929016\nonly_closeness: 0.9695093893863259\npr_and_closeness: 0.9694448699077339\nweighted: 0.969246323315855\n"
     ]
    }
   ],
   "source": [
    "print(metrics.idcg)\n",
    "for_each_dataset(datasets, metrics.ndcg)"
   ]
  },
  {
   "cell_type": "code",
   "execution_count": 10,
   "metadata": {
    "collapsed": false
   },
   "outputs": [
    {
     "name": "stdout",
     "output_type": "stream",
     "text": [
      "n = 5\nbaseline: 1.0\nrandom: 0.0\nnaive: 0.0\nonly_pr: 0.0\nonly_betweenness: 0.0\nonly_closeness: 0.0\npr_and_closeness: 0.0\nweighted: 0.0\nn = 10\nbaseline: 1.0\nrandom: 0.0\nnaive: 0.0\nonly_pr: 0.0\nonly_betweenness: 0.0\nonly_closeness: 0.0\npr_and_closeness: 0.0\nweighted: 0.0\nn = 20\nbaseline: 1.0\nrandom: 0.0\nnaive: 0.0\nonly_pr: 0.0\nonly_betweenness: 0.0\nonly_closeness: 0.0\npr_and_closeness: 0.0\nweighted: 0.0\nn = 50\nbaseline: 1.0\nrandom: 0.0\nnaive: 0.02\nonly_pr: 0.02\nonly_betweenness: 0.02\nonly_closeness: 0.02\npr_and_closeness: 0.02\nweighted: 0.0\n"
     ]
    }
   ],
   "source": [
    "for n in [5, 10, 20, 50]:\n",
    "  print('n = {n}'.format(n=n))\n",
    "  for_each_dataset(datasets, lambda a: metrics.precision_at(n, a))"
   ]
  },
  {
   "cell_type": "code",
   "execution_count": 11,
   "metadata": {},
   "outputs": [
    {
     "name": "stdout",
     "output_type": "stream",
     "text": [
      "baseline: KendalltauResult(correlation=1.0, pvalue=0.0)\nrandom: KendalltauResult(correlation=0.00012461619065060403, pvalue=0.9276170434253271)\n"
     ]
    },
    {
     "name": "stdout",
     "output_type": "stream",
     "text": [
      "naive: KendalltauResult(correlation=-0.10828944190757256, pvalue=0.0)\nonly_pr: KendalltauResult(correlation=0.12896672922070415, pvalue=0.0)\n"
     ]
    },
    {
     "name": "stdout",
     "output_type": "stream",
     "text": [
      "only_betweenness: KendalltauResult(correlation=0.07926208614022122, pvalue=0.0)\nonly_closeness: KendalltauResult(correlation=0.128118111980584, pvalue=0.0)\n"
     ]
    },
    {
     "name": "stdout",
     "output_type": "stream",
     "text": [
      "pr_and_closeness: KendalltauResult(correlation=0.12836012972465977, pvalue=0.0)\nweighted: KendalltauResult(correlation=0.12835209143224524, pvalue=0.0)\n"
     ]
    }
   ],
   "source": [
    "for_each_dataset(datasets, metrics.tau)"
   ]
  },
  {
   "cell_type": "code",
   "execution_count": 12,
   "metadata": {},
   "outputs": [
    {
     "name": "stdout",
     "output_type": "stream",
     "text": [
      "baseline: SpearmanrResult(correlation=1.0, pvalue=0.0)\nrandom: SpearmanrResult(correlation=0.000188417189785832, pvalue=0.9270403970606096)\nnaive: SpearmanrResult(correlation=-0.10581419419245508, pvalue=0.0)\n"
     ]
    },
    {
     "name": "stdout",
     "output_type": "stream",
     "text": [
      "only_pr: SpearmanrResult(correlation=0.19208347235986276, pvalue=0.0)\nonly_betweenness: SpearmanrResult(correlation=0.1189502398685879, pvalue=0.0)\nonly_closeness: SpearmanrResult(correlation=0.19139948467729362, pvalue=0.0)\n"
     ]
    },
    {
     "name": "stdout",
     "output_type": "stream",
     "text": [
      "pr_and_closeness: SpearmanrResult(correlation=0.1916857180860176, pvalue=0.0)\nweighted: SpearmanrResult(correlation=0.1916776644781126, pvalue=0.0)\n"
     ]
    }
   ],
   "source": [
    "for_each_dataset(datasets, metrics.rho)"
   ]
  },
  {
   "cell_type": "code",
   "execution_count": 13,
   "metadata": {},
   "outputs": [
    {
     "name": "stdout",
     "output_type": "stream",
     "text": [
      "baseline: 0.0\nrandom: 0.30769760954398523\nnaive: 0.28867464610616395\nonly_pr: 0.35405815121694784\nonly_betweenness: 0.36291298531231836\nonly_closeness: 0.2846489478814337\npr_and_closeness: 0.28461518746829256\nweighted: 0.2843955942029764\n"
     ]
    }
   ],
   "source": [
    "for_each_dataset(datasets, metrics.rmse)"
   ]
  },
  {
   "cell_type": "code",
   "execution_count": 14,
   "metadata": {},
   "outputs": [
    {
     "name": "stdout",
     "output_type": "stream",
     "text": [
      "baseline: 0.0\nrandom: 0.27645585587954774\nnaive: 0.18136344841755675\nonly_pr: 0.2170851004325509\nonly_betweenness: 0.22188552024601174\nonly_closeness: 0.17758237380998487\npr_and_closeness: 0.1776158328349559\nweighted: 0.17751065828847085\n"
     ]
    }
   ],
   "source": [
    "for_each_dataset(datasets, metrics.mae)"
   ]
  },
  {
   "cell_type": "code",
   "execution_count": 15,
   "metadata": {},
   "outputs": [],
   "source": [
    ""
   ]
  },
  {
   "cell_type": "code",
   "execution_count": null,
   "metadata": {},
   "outputs": [],
   "source": []
  }
 ],
 "metadata": {
  "kernelspec": {
   "display_name": "Python 2",
   "language": "python",
   "name": "python2"
  },
  "language_info": {
   "codemirror_mode": {
    "name": "ipython",
    "version": 2
   },
   "file_extension": ".py",
   "mimetype": "text/x-python",
   "name": "python",
   "nbconvert_exporter": "python",
   "pygments_lexer": "ipython2",
   "version": "2.7.6"
  }
 },
 "nbformat": 4,
 "nbformat_minor": 0
}
