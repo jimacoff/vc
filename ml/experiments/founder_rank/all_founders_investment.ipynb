{
 "cells": [
  {
   "cell_type": "code",
   "execution_count": 1,
   "metadata": {},
   "outputs": [],
   "source": [
    "%load_ext autoreload\n",
    "\n"
   ]
  },
  {
   "cell_type": "code",
   "execution_count": 2,
   "metadata": {},
   "outputs": [],
   "source": [
    "%autoreload 2"
   ]
  },
  {
   "cell_type": "code",
   "execution_count": 3,
   "metadata": {
    "collapsed": true
   },
   "outputs": [],
   "source": [
    "import numpy as np\n",
    "from experiments.founder_rank.helpers import *\n",
    "import experiments.founder_rank.metrics as metric\n",
    "import experiments.founder_rank.learner as learn"
   ]
  },
  {
   "cell_type": "code",
   "execution_count": 4,
   "metadata": {},
   "outputs": [],
   "source": [
    "import experiments.founder_rank.data.investment.baseline as baseline\n",
    "import experiments.founder_rank.data.investment.random as random\n",
    "import experiments.founder_rank.data.investment.naive as naive\n",
    "import experiments.founder_rank.data.investment.graph_metrics as graph_metrics"
   ]
  },
  {
   "cell_type": "code",
   "execution_count": 5,
   "metadata": {},
   "outputs": [],
   "source": [
    "datasets = get_datasets([baseline, random, naive])\n",
    "with_graph_metrics = get_dataset(graph_metrics)"
   ]
  },
  {
   "cell_type": "code",
   "execution_count": 6,
   "metadata": {},
   "outputs": [],
   "source": [
    "metrics = metric.Metrics(datasets['baseline'], power_dcg=False)\n",
    "learner = learn.Learner(datasets['baseline'])"
   ]
  },
  {
   "cell_type": "code",
   "execution_count": 7,
   "metadata": {},
   "outputs": [
    {
     "data": {
      "text/plain": [
       "array([[1.        , 0.66310837, 0.55543612],\n       [0.66310837, 1.        , 0.18146564],\n       [0.55543612, 0.18146564, 1.        ]])"
      ]
     },
     "execution_count": 7,
     "metadata": {},
     "output_type": "execute_result"
    }
   ],
   "source": [
    "only_pr = with_graph_metrics.take([0, 1], 1)\n",
    "only_betweenness = with_graph_metrics.take([0, 2], 1)\n",
    "only_closeness = with_graph_metrics.take([0, 3], 1)\n",
    "\n",
    "np.corrcoef(with_graph_metrics[:, 1:], rowvar=False)"
   ]
  },
  {
   "cell_type": "code",
   "execution_count": 8,
   "metadata": {
    "collapsed": false
   },
   "outputs": [
    {
     "name": "stdout",
     "output_type": "stream",
     "text": [
      "only_pr: r^2=-0.1658904587455199, coeff=[152.65111253]\n"
     ]
    },
    {
     "name": "stdout",
     "output_type": "stream",
     "text": [
      "only_betweenness: r^2=-0.6118101293205958, coeff=[78.46225001]\n"
     ]
    },
    {
     "name": "stdout",
     "output_type": "stream",
     "text": [
      "only_closeness: r^2=0.2511681440545568, coeff=[0.93211039]\n"
     ]
    },
    {
     "name": "stdout",
     "output_type": "stream",
     "text": [
      "pr_and_closeness: r^2=0.2678407039447279, coeff=[36.24734836  0.8296896 ]\n"
     ]
    },
    {
     "name": "stdout",
     "output_type": "stream",
     "text": [
      "weighted: r^2=0.27746870088301134, coeff=[ 62.2980699  -51.58768103   0.78338812]\n"
     ]
    }
   ],
   "source": [
    "VERSIONS = {\n",
    "  'only_pr': [1], \n",
    "  'only_betweenness': [2],\n",
    "  'only_closeness': [3],\n",
    "  'pr_and_closeness': [1, 3],\n",
    "  'weighted': [1, 2, 3],\n",
    "}\n",
    "\n",
    "for name, indexes in VERSIONS.items():\n",
    "  features = with_graph_metrics.take([0] + indexes, 1)\n",
    "  dataset, coeff, r2 = learner.linear_regression(features)\n",
    "  datasets[name] = dataset\n",
    "  print('{n}: r^2={r2}, coeff={c}'.format(n=name, r2=r2, c=coeff))"
   ]
  },
  {
   "cell_type": "code",
   "execution_count": 9,
   "metadata": {
    "collapsed": false
   },
   "outputs": [
    {
     "name": "stdout",
     "output_type": "stream",
     "text": [
      "1964609088.4837651\nbaseline: 1.0\nrandom: 0.9525432968945147\nnaive: 0.9793948468162529\nonly_pr: 0.9818280231069212\nonly_betweenness: 0.9790418554301276\nonly_closeness: 0.9800458059235672\npr_and_closeness: 0.9812849539866503\nweighted: 0.9815780337385415\n"
     ]
    }
   ],
   "source": [
    "print(metrics.idcg)\n",
    "for_each_dataset(datasets, metrics.ndcg)"
   ]
  },
  {
   "cell_type": "code",
   "execution_count": 10,
   "metadata": {
    "collapsed": false
   },
   "outputs": [
    {
     "name": "stdout",
     "output_type": "stream",
     "text": [
      "n = 5\nbaseline: 1.0\nrandom: 0.0\nnaive: 0.0\nonly_pr: 0.0\nonly_betweenness: 0.0\nonly_closeness: 0.0\npr_and_closeness: 0.0\nweighted: 0.0\nn = 10\nbaseline: 1.0\nrandom: 0.0\nnaive: 0.0\nonly_pr: 0.0\nonly_betweenness: 0.0\nonly_closeness: 0.0\npr_and_closeness: 0.0\nweighted: 0.0\nn = 20\nbaseline: 1.0\nrandom: 0.0\nnaive: 0.0\nonly_pr: 0.0\nonly_betweenness: 0.0\nonly_closeness: 0.0\npr_and_closeness: 0.0\nweighted: 0.0\nn = 50\nbaseline: 1.0\nrandom: 0.0\nnaive: 0.12\nonly_pr: 0.12\nonly_betweenness: 0.12\nonly_closeness: 0.12\npr_and_closeness: 0.12\nweighted: 0.08\n"
     ]
    }
   ],
   "source": [
    "for n in [5, 10, 20, 50]:\n",
    "  print('n = {n}'.format(n=n))\n",
    "  for_each_dataset(datasets, lambda a: metrics.precision_at(n, a))"
   ]
  },
  {
   "cell_type": "code",
   "execution_count": 11,
   "metadata": {},
   "outputs": [
    {
     "name": "stdout",
     "output_type": "stream",
     "text": [
      "baseline: KendalltauResult(correlation=1.0, pvalue=0.0)\nrandom: KendalltauResult(correlation=-0.001029897102002936, pvalue=0.44256264718450555)\nnaive: KendalltauResult(correlation=0.3402847099322236, pvalue=0.0)\n"
     ]
    },
    {
     "name": "stdout",
     "output_type": "stream",
     "text": [
      "only_pr: KendalltauResult(correlation=0.3530884867276176, pvalue=0.0)\nonly_betweenness: KendalltauResult(correlation=0.2902130358182939, pvalue=0.0)\n"
     ]
    },
    {
     "name": "stdout",
     "output_type": "stream",
     "text": [
      "only_closeness: KendalltauResult(correlation=0.3322688258700945, pvalue=0.0)\npr_and_closeness: KendalltauResult(correlation=0.3433049416523354, pvalue=0.0)\n"
     ]
    },
    {
     "name": "stdout",
     "output_type": "stream",
     "text": [
      "weighted: KendalltauResult(correlation=0.34628103854100445, pvalue=0.0)\n"
     ]
    }
   ],
   "source": [
    "for_each_dataset(datasets, metrics.tau)"
   ]
  },
  {
   "cell_type": "code",
   "execution_count": 12,
   "metadata": {},
   "outputs": [
    {
     "name": "stdout",
     "output_type": "stream",
     "text": [
      "baseline: SpearmanrResult(correlation=1.0, pvalue=0.0)\nrandom: SpearmanrResult(correlation=-0.001545874479326042, pvalue=0.4422576670305377)\n"
     ]
    },
    {
     "name": "stdout",
     "output_type": "stream",
     "text": [
      "naive: SpearmanrResult(correlation=0.44003499072877456, pvalue=0.0)\nonly_pr: SpearmanrResult(correlation=0.5060181113890688, pvalue=0.0)\n"
     ]
    },
    {
     "name": "stdout",
     "output_type": "stream",
     "text": [
      "only_betweenness: SpearmanrResult(correlation=0.4177443868723302, pvalue=0.0)\nonly_closeness: SpearmanrResult(correlation=0.48189626841665295, pvalue=0.0)\n"
     ]
    },
    {
     "name": "stdout",
     "output_type": "stream",
     "text": [
      "pr_and_closeness: SpearmanrResult(correlation=0.4943528298416258, pvalue=0.0)\nweighted: SpearmanrResult(correlation=0.49755431355391977, pvalue=0.0)\n"
     ]
    }
   ],
   "source": [
    "for_each_dataset(datasets, metrics.rho)"
   ]
  },
  {
   "cell_type": "code",
   "execution_count": 13,
   "metadata": {},
   "outputs": [
    {
     "name": "stdout",
     "output_type": "stream",
     "text": [
      "baseline: 0.0\nrandom: 0.277889907111248\nnaive: 0.16003108495530638\nonly_pr: 0.29088470631312696\nonly_betweenness: 0.39536768768730035\nonly_closeness: 0.14457127722972002\npr_and_closeness: 0.14133813648214602\nweighted: 0.13807955156810595\n"
     ]
    }
   ],
   "source": [
    "for_each_dataset(datasets, metrics.rmse)"
   ]
  },
  {
   "cell_type": "code",
   "execution_count": 14,
   "metadata": {},
   "outputs": [
    {
     "name": "stdout",
     "output_type": "stream",
     "text": [
      "baseline: 0.0\nrandom: 0.24492108783554128\nnaive: 0.10188847170795513\nonly_pr: 0.18087751675340782\nonly_betweenness: 0.24922306041535644\nonly_closeness: 0.08878425154699424\npr_and_closeness: 0.08902575144609742\nweighted: 0.08787718021808437\n"
     ]
    }
   ],
   "source": [
    "for_each_dataset(datasets, metrics.mae)"
   ]
  },
  {
   "cell_type": "code",
   "execution_count": 15,
   "metadata": {},
   "outputs": [],
   "source": [
    ""
   ]
  },
  {
   "cell_type": "code",
   "execution_count": null,
   "metadata": {},
   "outputs": [],
   "source": []
  }
 ],
 "metadata": {
  "kernelspec": {
   "display_name": "Python 2",
   "language": "python",
   "name": "python2"
  },
  "language_info": {
   "codemirror_mode": {
    "name": "ipython",
    "version": 2
   },
   "file_extension": ".py",
   "mimetype": "text/x-python",
   "name": "python",
   "nbconvert_exporter": "python",
   "pygments_lexer": "ipython2",
   "version": "2.7.6"
  }
 },
 "nbformat": 4,
 "nbformat_minor": 0
}
